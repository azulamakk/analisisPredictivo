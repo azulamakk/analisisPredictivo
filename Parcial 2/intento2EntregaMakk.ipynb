{
 "cells": [
  {
   "cell_type": "code",
   "execution_count": 119,
   "metadata": {},
   "outputs": [],
   "source": [
    "import pandas as pd\n",
    "import numpy as np \n",
    "import json\n",
    "import ast\n",
    "from sklearn.preprocessing import LabelEncoder\n",
    "from sklearn.model_selection import train_test_split\n",
    "from sklearn.linear_model import LinearRegression\n",
    "from sklearn.metrics import mean_squared_error\n",
    "from sklearn.metrics import r2_score\n"
   ]
  },
  {
   "cell_type": "code",
   "execution_count": 99,
   "metadata": {},
   "outputs": [],
   "source": [
    "df = pd.read_csv('./origen.csv')\n",
    "test = pd.read_csv('./testear.csv')"
   ]
  },
  {
   "cell_type": "markdown",
   "metadata": {},
   "source": [
    "# Limpieza de datos\n",
    "## Variables de tipo numericas\n",
    "- average rating\n",
    "- numVotes\n",
    "- isAdult\n",
    "- startYear\n",
    "- endYear\n",
    "- runtimeMinutes\n",
    "- seasonNumber\n",
    "- episodeNumber\n",
    "- ordering\n",
    "- language\n",
    "- isOriginalTitle\n",
    "- budget\n",
    "- popularity\n",
    "- revenue\n",
    "- runtime\n",
    "\n",
    "## Variables de tipo str\n",
    "- titleType\n",
    "- genres_x\n",
    "- directors\n",
    "- writers\n",
    "- adult\n",
    "- genres_y\n",
    "- original_language\n",
    "- production_company\n",
    "- production_country\n",
    "- status\n",
    "- tagline\n",
    "- video\n",
    "\n",
    "## Variables booleanas\n",
    "\n",
    "Todas las columnas son rotuladas de manera numerica\n",
    "Las columnas indice, directors, writer, tagline, language, adult fueron eliminadas"
   ]
  },
  {
   "cell_type": "code",
   "execution_count": 100,
   "metadata": {},
   "outputs": [],
   "source": [
    "df = df.drop('Unnamed: 0', axis=1)"
   ]
  },
  {
   "cell_type": "code",
   "execution_count": 101,
   "metadata": {},
   "outputs": [
    {
     "name": "stdout",
     "output_type": "stream",
     "text": [
      "1287\n",
      "475\n"
     ]
    }
   ],
   "source": [
    "print(df['writers'].str.count(',').max())\n",
    "# Se pueden tener hasta 1288 escritores\n",
    "df = df.drop(columns=['writers'])\n",
    "\n",
    "print(df['directors'].str.count(',').max())\n",
    "# Se pueden tener hasta 475 directores\n",
    "# dummiesDirectors = df['directors'].str.get_dummies(sep=',')\n",
    "# df = pd.concat([df, dummiesDirectors], axis=1)\n",
    "df = df.drop(columns=['directors'])"
   ]
  },
  {
   "cell_type": "code",
   "execution_count": 102,
   "metadata": {},
   "outputs": [],
   "source": [
    "df = df.drop('tagline', axis = 1)"
   ]
  },
  {
   "cell_type": "code",
   "execution_count": 103,
   "metadata": {},
   "outputs": [],
   "source": [
    "def columnasDummies(unique_values, column):\n",
    "    for value in unique_values:\n",
    "        df[value] = (df[column] == value).astype(int)"
   ]
  },
  {
   "cell_type": "code",
   "execution_count": 104,
   "metadata": {},
   "outputs": [],
   "source": [
    "columnasDummies(df['adult'].unique(), 'adult')\n",
    "df = df.drop(columns=['adult'])\n",
    "df = df.drop(columns=['isAdult'])"
   ]
  },
  {
   "cell_type": "code",
   "execution_count": 105,
   "metadata": {},
   "outputs": [],
   "source": [
    "columnasDummies(df['titleType'].unique(), 'titleType')\n",
    "df = df.drop(columns=['titleType'])"
   ]
  },
  {
   "cell_type": "code",
   "execution_count": 106,
   "metadata": {},
   "outputs": [],
   "source": [
    "dummy_df = pd.get_dummies(df['attributes'], prefix='attributes', prefix_sep='_')\n",
    "df = pd.concat([df, dummy_df], axis=1)\n",
    "df = df.drop(columns=['attributes'])"
   ]
  },
  {
   "cell_type": "code",
   "execution_count": 107,
   "metadata": {},
   "outputs": [],
   "source": [
    "dummy_df = pd.get_dummies(df['original_language'], prefix='original_language', prefix_sep='_')\n",
    "df = pd.concat([df, dummy_df], axis=1)\n",
    "df = df.drop(columns=['language'])\n",
    "df = df.drop(columns=['original_language'])"
   ]
  },
  {
   "cell_type": "code",
   "execution_count": 108,
   "metadata": {},
   "outputs": [],
   "source": [
    "columnasDummies(df['status'].unique(), 'status')\n",
    "df = df.drop(columns=['status'])"
   ]
  },
  {
   "cell_type": "code",
   "execution_count": 109,
   "metadata": {},
   "outputs": [],
   "source": [
    "columnasDummies(df['video'].unique(), 'video')\n",
    "df = df.drop(columns=['video'])"
   ]
  },
  {
   "cell_type": "code",
   "execution_count": 110,
   "metadata": {},
   "outputs": [],
   "source": [
    "def extract_and_join_names(row):\n",
    "    if pd.notna(row):  \n",
    "        cleaned_json = row.replace(\"'\", '\"').strip() \n",
    "        try:\n",
    "            country_list = json.loads(cleaned_json)\n",
    "            names = [country['name'] for country in country_list]\n",
    "            return ', '.join(names)\n",
    "        except json.JSONDecodeError as e:\n",
    "            return 'Invalid JSON'\n",
    "    else:\n",
    "        return ''"
   ]
  },
  {
   "cell_type": "code",
   "execution_count": 111,
   "metadata": {},
   "outputs": [],
   "source": [
    "dummiesGenero = df['genres_x'].str.get_dummies(sep=',')\n",
    "df = pd.concat([df, dummiesGenero], axis=1)\n",
    "df = df.drop(columns=['genres_x'])\n",
    "df = df.drop(columns=['0'])"
   ]
  },
  {
   "cell_type": "code",
   "execution_count": 112,
   "metadata": {},
   "outputs": [],
   "source": [
    "df['genre_y'] = df['genres_y'].apply(extract_and_join_names)"
   ]
  },
  {
   "cell_type": "code",
   "execution_count": 113,
   "metadata": {},
   "outputs": [],
   "source": [
    "df['countries'] = df['production_countries'].apply(extract_and_join_names)"
   ]
  },
  {
   "cell_type": "code",
   "execution_count": 114,
   "metadata": {},
   "outputs": [],
   "source": [
    "df['companies'] = df['production_companies'].apply(extract_and_join_names)"
   ]
  },
  {
   "cell_type": "code",
   "execution_count": 115,
   "metadata": {},
   "outputs": [],
   "source": [
    "dummiesGenreY = df['genre_y'].str.get_dummies(sep=',')\n",
    "df = pd.concat([df, dummiesGenreY], axis=1)\n",
    "df = df.drop(columns=['genre_y'])\n",
    "df = df.drop(columns=['genres_y'])"
   ]
  },
  {
   "cell_type": "code",
   "execution_count": 116,
   "metadata": {},
   "outputs": [],
   "source": [
    "dummiesCountries = df['countries'].str.get_dummies(sep=', ')\n",
    "df = pd.concat([df, dummiesCountries], axis=1)\n",
    "df = df.drop(columns=['production_countries'])\n",
    "df = df.drop(columns=['countries'])"
   ]
  },
  {
   "cell_type": "code",
   "execution_count": 117,
   "metadata": {},
   "outputs": [
    {
     "name": "stdout",
     "output_type": "stream",
     "text": [
      "Número de empresas distintas: 20311\n"
     ]
    }
   ],
   "source": [
    "empresas_por_fila = df['companies'].str.split(', ')\n",
    "todas_las_empresas = [empresa for empresas in empresas_por_fila.dropna() for empresa in empresas]\n",
    "num_empresas_distintas = len(set(todas_las_empresas))\n",
    "\n",
    "print(\"Número de empresas distintas:\", num_empresas_distintas)\n",
    "\n",
    "df = df.drop(columns=['production_companies'])\n",
    "df = df.drop(columns=['companies'])"
   ]
  },
  {
   "cell_type": "code",
   "execution_count": 118,
   "metadata": {},
   "outputs": [],
   "source": [
    "df_copia = df.copy()"
   ]
  },
  {
   "cell_type": "markdown",
   "metadata": {},
   "source": [
    "### Modelo baseline"
   ]
  },
  {
   "cell_type": "code",
   "execution_count": 120,
   "metadata": {},
   "outputs": [
    {
     "ename": "KeyError",
     "evalue": "\"['averageRating'] not found in axis\"",
     "output_type": "error",
     "traceback": [
      "\u001b[0;31m---------------------------------------------------------------------------\u001b[0m",
      "\u001b[0;31mKeyError\u001b[0m                                  Traceback (most recent call last)",
      "\u001b[1;32m/Users/azulmakk/Universidad/Analisis Predictivo/Parcial 2/intento2EntregaMakk.ipynb Cell 24\u001b[0m line \u001b[0;36m5\n\u001b[1;32m      <a href='vscode-notebook-cell:/Users/azulmakk/Universidad/Analisis%20Predictivo/Parcial%202/intento2EntregaMakk.ipynb#X36sZmlsZQ%3D%3D?line=1'>2</a>\u001b[0m y \u001b[39m=\u001b[39m df[\u001b[39m'\u001b[39m\u001b[39maverageRating\u001b[39m\u001b[39m'\u001b[39m]\n\u001b[1;32m      <a href='vscode-notebook-cell:/Users/azulmakk/Universidad/Analisis%20Predictivo/Parcial%202/intento2EntregaMakk.ipynb#X36sZmlsZQ%3D%3D?line=3'>4</a>\u001b[0m \u001b[39m# 2. Separa el DataFrame 'test' en características (X_test) y la variable objetivo (y_test).\u001b[39;00m\n\u001b[0;32m----> <a href='vscode-notebook-cell:/Users/azulmakk/Universidad/Analisis%20Predictivo/Parcial%202/intento2EntregaMakk.ipynb#X36sZmlsZQ%3D%3D?line=4'>5</a>\u001b[0m X_test \u001b[39m=\u001b[39m test\u001b[39m.\u001b[39mdrop(columns\u001b[39m=\u001b[39m[\u001b[39m'\u001b[39m\u001b[39maverageRating\u001b[39m\u001b[39m'\u001b[39m])\n\u001b[1;32m      <a href='vscode-notebook-cell:/Users/azulmakk/Universidad/Analisis%20Predictivo/Parcial%202/intento2EntregaMakk.ipynb#X36sZmlsZQ%3D%3D?line=5'>6</a>\u001b[0m y_test \u001b[39m=\u001b[39m test[\u001b[39m'\u001b[39m\u001b[39maverageRating\u001b[39m\u001b[39m'\u001b[39m]\n\u001b[1;32m      <a href='vscode-notebook-cell:/Users/azulmakk/Universidad/Analisis%20Predictivo/Parcial%202/intento2EntregaMakk.ipynb#X36sZmlsZQ%3D%3D?line=7'>8</a>\u001b[0m \u001b[39m# 3. Crea un modelo de línea base (en este caso, la media de y).\u001b[39;00m\n",
      "File \u001b[0;32m~/anaconda3/lib/python3.11/site-packages/pandas/core/frame.py:5258\u001b[0m, in \u001b[0;36mDataFrame.drop\u001b[0;34m(self, labels, axis, index, columns, level, inplace, errors)\u001b[0m\n\u001b[1;32m   5110\u001b[0m \u001b[39mdef\u001b[39;00m \u001b[39mdrop\u001b[39m(\n\u001b[1;32m   5111\u001b[0m     \u001b[39mself\u001b[39m,\n\u001b[1;32m   5112\u001b[0m     labels: IndexLabel \u001b[39m=\u001b[39m \u001b[39mNone\u001b[39;00m,\n\u001b[0;32m   (...)\u001b[0m\n\u001b[1;32m   5119\u001b[0m     errors: IgnoreRaise \u001b[39m=\u001b[39m \u001b[39m\"\u001b[39m\u001b[39mraise\u001b[39m\u001b[39m\"\u001b[39m,\n\u001b[1;32m   5120\u001b[0m ) \u001b[39m-\u001b[39m\u001b[39m>\u001b[39m DataFrame \u001b[39m|\u001b[39m \u001b[39mNone\u001b[39;00m:\n\u001b[1;32m   5121\u001b[0m \u001b[39m    \u001b[39m\u001b[39m\"\"\"\u001b[39;00m\n\u001b[1;32m   5122\u001b[0m \u001b[39m    Drop specified labels from rows or columns.\u001b[39;00m\n\u001b[1;32m   5123\u001b[0m \n\u001b[0;32m   (...)\u001b[0m\n\u001b[1;32m   5256\u001b[0m \u001b[39m            weight  1.0     0.8\u001b[39;00m\n\u001b[1;32m   5257\u001b[0m \u001b[39m    \"\"\"\u001b[39;00m\n\u001b[0;32m-> 5258\u001b[0m     \u001b[39mreturn\u001b[39;00m \u001b[39msuper\u001b[39m()\u001b[39m.\u001b[39mdrop(\n\u001b[1;32m   5259\u001b[0m         labels\u001b[39m=\u001b[39mlabels,\n\u001b[1;32m   5260\u001b[0m         axis\u001b[39m=\u001b[39maxis,\n\u001b[1;32m   5261\u001b[0m         index\u001b[39m=\u001b[39mindex,\n\u001b[1;32m   5262\u001b[0m         columns\u001b[39m=\u001b[39mcolumns,\n\u001b[1;32m   5263\u001b[0m         level\u001b[39m=\u001b[39mlevel,\n\u001b[1;32m   5264\u001b[0m         inplace\u001b[39m=\u001b[39minplace,\n\u001b[1;32m   5265\u001b[0m         errors\u001b[39m=\u001b[39merrors,\n\u001b[1;32m   5266\u001b[0m     )\n",
      "File \u001b[0;32m~/anaconda3/lib/python3.11/site-packages/pandas/core/generic.py:4549\u001b[0m, in \u001b[0;36mNDFrame.drop\u001b[0;34m(self, labels, axis, index, columns, level, inplace, errors)\u001b[0m\n\u001b[1;32m   4547\u001b[0m \u001b[39mfor\u001b[39;00m axis, labels \u001b[39min\u001b[39;00m axes\u001b[39m.\u001b[39mitems():\n\u001b[1;32m   4548\u001b[0m     \u001b[39mif\u001b[39;00m labels \u001b[39mis\u001b[39;00m \u001b[39mnot\u001b[39;00m \u001b[39mNone\u001b[39;00m:\n\u001b[0;32m-> 4549\u001b[0m         obj \u001b[39m=\u001b[39m obj\u001b[39m.\u001b[39m_drop_axis(labels, axis, level\u001b[39m=\u001b[39mlevel, errors\u001b[39m=\u001b[39merrors)\n\u001b[1;32m   4551\u001b[0m \u001b[39mif\u001b[39;00m inplace:\n\u001b[1;32m   4552\u001b[0m     \u001b[39mself\u001b[39m\u001b[39m.\u001b[39m_update_inplace(obj)\n",
      "File \u001b[0;32m~/anaconda3/lib/python3.11/site-packages/pandas/core/generic.py:4591\u001b[0m, in \u001b[0;36mNDFrame._drop_axis\u001b[0;34m(self, labels, axis, level, errors, only_slice)\u001b[0m\n\u001b[1;32m   4589\u001b[0m         new_axis \u001b[39m=\u001b[39m axis\u001b[39m.\u001b[39mdrop(labels, level\u001b[39m=\u001b[39mlevel, errors\u001b[39m=\u001b[39merrors)\n\u001b[1;32m   4590\u001b[0m     \u001b[39melse\u001b[39;00m:\n\u001b[0;32m-> 4591\u001b[0m         new_axis \u001b[39m=\u001b[39m axis\u001b[39m.\u001b[39mdrop(labels, errors\u001b[39m=\u001b[39merrors)\n\u001b[1;32m   4592\u001b[0m     indexer \u001b[39m=\u001b[39m axis\u001b[39m.\u001b[39mget_indexer(new_axis)\n\u001b[1;32m   4594\u001b[0m \u001b[39m# Case for non-unique axis\u001b[39;00m\n\u001b[1;32m   4595\u001b[0m \u001b[39melse\u001b[39;00m:\n",
      "File \u001b[0;32m~/anaconda3/lib/python3.11/site-packages/pandas/core/indexes/base.py:6699\u001b[0m, in \u001b[0;36mIndex.drop\u001b[0;34m(self, labels, errors)\u001b[0m\n\u001b[1;32m   6697\u001b[0m \u001b[39mif\u001b[39;00m mask\u001b[39m.\u001b[39many():\n\u001b[1;32m   6698\u001b[0m     \u001b[39mif\u001b[39;00m errors \u001b[39m!=\u001b[39m \u001b[39m\"\u001b[39m\u001b[39mignore\u001b[39m\u001b[39m\"\u001b[39m:\n\u001b[0;32m-> 6699\u001b[0m         \u001b[39mraise\u001b[39;00m \u001b[39mKeyError\u001b[39;00m(\u001b[39mf\u001b[39m\u001b[39m\"\u001b[39m\u001b[39m{\u001b[39;00m\u001b[39mlist\u001b[39m(labels[mask])\u001b[39m}\u001b[39;00m\u001b[39m not found in axis\u001b[39m\u001b[39m\"\u001b[39m)\n\u001b[1;32m   6700\u001b[0m     indexer \u001b[39m=\u001b[39m indexer[\u001b[39m~\u001b[39mmask]\n\u001b[1;32m   6701\u001b[0m \u001b[39mreturn\u001b[39;00m \u001b[39mself\u001b[39m\u001b[39m.\u001b[39mdelete(indexer)\n",
      "\u001b[0;31mKeyError\u001b[0m: \"['averageRating'] not found in axis\""
     ]
    }
   ],
   "source": [
    "X = df.drop(columns=['averageRating'])\n",
    "y = df['averageRating']\n",
    "\n",
    "# 2. Separa el DataFrame 'test' en características (X_test) y la variable objetivo (y_test).\n",
    "X_test = test.drop(columns=['averageRating'])\n",
    "y_test = test['averageRating']\n",
    "\n",
    "# 3. Crea un modelo de línea base (en este caso, la media de y).\n",
    "baseline_model = LinearRegression()\n",
    "baseline_model.fit(X, y)\n",
    "\n",
    "# 6. Realiza predicciones en el conjunto de prueba.\n",
    "y_pred = baseline_model.predict(X_test)\n",
    "\n",
    "# 7. Calcula el coeficiente de determinación (R2) para evaluar el rendimiento del modelo en el conjunto de prueba.\n",
    "r2 = r2_score(y_test, y_pred)\n",
    "print(f'Coeficiente de determinación (R2): {r2:.2f}')"
   ]
  }
 ],
 "metadata": {
  "kernelspec": {
   "display_name": "Python 3",
   "language": "python",
   "name": "python3"
  },
  "language_info": {
   "codemirror_mode": {
    "name": "ipython",
    "version": 3
   },
   "file_extension": ".py",
   "mimetype": "text/x-python",
   "name": "python",
   "nbconvert_exporter": "python",
   "pygments_lexer": "ipython3",
   "version": "3.11.5"
  }
 },
 "nbformat": 4,
 "nbformat_minor": 2
}
