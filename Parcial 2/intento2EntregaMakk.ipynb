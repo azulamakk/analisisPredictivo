{
 "cells": [
  {
   "cell_type": "code",
   "execution_count": 1,
   "metadata": {},
   "outputs": [],
   "source": [
    "import pandas as pd\n",
    "import matplotlib.pyplot as plt\n",
    "import seaborn as sns\n",
    "import json\n",
    "import xgboost as xgb\n",
    "import numpy as np\n",
    "import pandas as pd\n",
    "from sklearn.metrics import mean_squared_error\n",
    "from sklearn.model_selection import train_test_split\n",
    "from sklearn.ensemble import ExtraTreesRegressor\n",
    "from sklearn.metrics import r2_score\n",
    "from sklearn.ensemble import RandomForestRegressor"
   ]
  },
  {
   "cell_type": "code",
   "execution_count": 2,
   "metadata": {},
   "outputs": [],
   "source": [
    "df = pd.read_csv('./origen.csv')\n",
    "test = pd.read_csv('./testear.csv')"
   ]
  },
  {
   "cell_type": "markdown",
   "metadata": {},
   "source": [
    "# Analisis Exploratorio"
   ]
  },
  {
   "cell_type": "code",
   "execution_count": 3,
   "metadata": {},
   "outputs": [
    {
     "data": {
      "image/png": "[encoded data removed]",
      "text/plain": [
       "<Figure size 400x400 with 1 Axes>"
      ]
     },
     "metadata": {},
     "output_type": "display_data"
    }
   ],
   "source": [
    "plt.figure(figsize=(4, 4)) \n",
    "plt.boxplot(df['averageRating'], vert=False)  \n",
    "plt.title('Boxplot de averageRating')  \n",
    "plt.xlabel('averageRating')  \n",
    "plt.box(False)\n",
    "plt.show()"
   ]
  },
  {
   "cell_type": "code",
   "execution_count": 4,
   "metadata": {},
   "outputs": [],
   "source": [
    "def extract_and_join_names(row):\n",
    "    if pd.notna(row):  \n",
    "        cleaned_json = row.replace(\"'\", '\"').strip() \n",
    "        try:\n",
    "            country_list = json.loads(cleaned_json)\n",
    "            names = [country['name'] for country in country_list]\n",
    "            return ', '.join(names)\n",
    "        except json.JSONDecodeError as e:\n",
    "            return 'Invalid JSON'\n",
    "    else:\n",
    "        return ''"
   ]
  },
  {
   "cell_type": "code",
   "execution_count": 5,
   "metadata": {},
   "outputs": [],
   "source": [
    "df['genre_y'] = df['genres_y'].apply(extract_and_join_names)\n",
    "test['genre_y'] = test['genres_y'].apply(extract_and_join_names)"
   ]
  },
  {
   "cell_type": "code",
   "execution_count": 6,
   "metadata": {},
   "outputs": [],
   "source": [
    "df['countries'] = df['production_countries'].apply(extract_and_join_names)\n",
    "test['countries'] = test['production_countries'].apply(extract_and_join_names)"
   ]
  },
  {
   "cell_type": "code",
   "execution_count": 7,
   "metadata": {},
   "outputs": [],
   "source": [
    "df['companies'] = df['production_companies'].apply(extract_and_join_names)\n",
    "test['companies'] = test['production_companies'].apply(extract_and_join_names)"
   ]
  },
  {
   "cell_type": "markdown",
   "metadata": {},
   "source": [
    "# Limpieza de datos\n",
    "## Variables de tipo numericas\n",
    "- average rating\n",
    "- numVotes\n",
    "- isAdult\n",
    "- startYear\n",
    "- endYear\n",
    "- runtimeMinutes\n",
    "- seasonNumber\n",
    "- episodeNumber\n",
    "- ordering\n",
    "- language\n",
    "- isOriginalTitle\n",
    "- budget\n",
    "- popularity\n",
    "- revenue\n",
    "- runtime\n",
    "\n",
    "## Variables de tipo str\n",
    "- titleType\n",
    "- genres_x\n",
    "- directors\n",
    "- writers\n",
    "- adult\n",
    "- genres_y\n",
    "- original_language\n",
    "- production_company\n",
    "- production_country\n",
    "- status\n",
    "- tagline\n",
    "- video\n",
    "\n",
    "## Variables booleanas\n",
    "\n",
    "Todas las columnas son rotuladas de manera numerica\n",
    "Las columnas indice, directors, writer, tagline, language, adult fueron eliminadas"
   ]
  },
  {
   "cell_type": "code",
   "execution_count": 8,
   "metadata": {},
   "outputs": [],
   "source": [
    "df = df.drop('Unnamed: 0', axis=1)\n",
    "\n",
    "test = test.drop('Unnamed: 0', axis=1)"
   ]
  },
  {
   "cell_type": "code",
   "execution_count": 9,
   "metadata": {},
   "outputs": [],
   "source": [
    "df['production_company_is_null'] = df['production_companies'].isnull().astype(int)\n",
    "df['status_is_null'] = df['status'].isnull().astype(int)\n",
    "df['production_countries_is_null'] = df['production_countries'].isnull().astype(int)\n",
    "df['adult_is_null'] = df['adult'].isnull().astype(int)\n",
    "df['genre_y_is_null'] = df['genres_y'].isnull().astype(int)\n",
    "df['original_language_is_null'] = df['original_language'].isnull().astype(int)\n",
    "df['video_is_null'] = df['video'].isnull().astype(int)\n",
    "df['popularity_is_null'] = df['popularity'].isnull().astype(int)\n",
    "df['runtime_is_null'] = df['runtime'].isnull().astype(int)\n",
    "df['budget_is_null'] = df['budget'].isnull().astype(int)\n",
    "\n",
    "test['production_company_is_null'] = test['production_companies'].isnull().astype(int)\n",
    "test['status_is_null'] = test['status'].isnull().astype(int)\n",
    "test['production_countries_is_null'] = test['production_countries'].isnull().astype(int)\n",
    "test['adult_is_null'] = test['adult'].isnull().astype(int)\n",
    "test['genre_y_is_null'] = test['genres_y'].isnull().astype(int)\n",
    "test['original_language_is_null'] = test['original_language'].isnull().astype(int)\n",
    "test['video_is_null'] = test['video'].isnull().astype(int)\n",
    "test['popularity_is_null'] = test['popularity'].isnull().astype(int)\n",
    "test['runtime_is_null'] = test['runtime'].isnull().astype(int)\n",
    "test['budget_is_null'] = test['budget'].isnull().astype(int)"
   ]
  },
  {
   "cell_type": "code",
   "execution_count": 10,
   "metadata": {},
   "outputs": [],
   "source": [
    "def frequency_encoder(df, test_df, column):\n",
    "    frequency_map = df[column].value_counts(normalize=True).to_dict()\n",
    "    df[f'{column}_freq_encoded'] = df[column].map(frequency_map)\n",
    "    test_df[f'{column}_freq_encoded'] = test_df[column].map(frequency_map)"
   ]
  },
  {
   "cell_type": "code",
   "execution_count": 11,
   "metadata": {},
   "outputs": [],
   "source": [
    "director_avg_votes = {}\n",
    "director_max_votes = {}\n",
    "director_min_votes = {}\n",
    "\n",
    "for index, row in df.iterrows():\n",
    "    directors = row['directors'].split(',')\n",
    "    votes = row['numVotes']\n",
    "    for director in directors:\n",
    "        director_avg_votes[director] = director_avg_votes.get(director, []) + [votes]\n",
    "        if director not in director_max_votes or votes > director_max_votes[director]:\n",
    "            director_max_votes[director] = votes\n",
    "        if director not in director_min_votes or votes < director_min_votes[director]:\n",
    "            director_min_votes[director] = votes\n",
    "\n",
    "for index, row in test.iterrows():\n",
    "    directors = row['directors'].split(',')\n",
    "    votes = row['numVotes']\n",
    "    for director in directors:\n",
    "        director_avg_votes[director] = director_avg_votes.get(director, []) + [votes]\n",
    "        if director not in director_max_votes or votes > director_max_votes[director]:\n",
    "            director_max_votes[director] = votes\n",
    "        if director not in director_min_votes or votes < director_min_votes[director]:\n",
    "            director_min_votes[director] = votes\n",
    "\n",
    "for director, votes in director_avg_votes.items():\n",
    "    director_avg_votes[director] = sum(votes) / len(votes)\n",
    "\n",
    "df['avgVotes_directors'] = df['directors'].apply(lambda x: np.average([director_avg_votes[d] for d in x.split(',')]))\n",
    "df['maxVotes_directors'] = df['directors'].apply(lambda x: max([director_max_votes[d] for d in x.split(',')]))\n",
    "df['minVotes_directors'] = df['directors'].apply(lambda x: min([director_min_votes[d] for d in x.split(',')]))\n",
    "\n",
    "test['avgVotes_directors'] = test['directors'].apply(lambda x: np.average([director_avg_votes[d] for d in x.split(',')]))\n",
    "test['maxVotes_directors'] = test['directors'].apply(lambda x: max([director_max_votes[d] for d in x.split(',')]))\n",
    "test['minVotes_directors'] = test['directors'].apply(lambda x: min([director_min_votes[d] for d in x.split(',')]))"
   ]
  },
  {
   "cell_type": "code",
   "execution_count": 12,
   "metadata": {},
   "outputs": [],
   "source": [
    "writer_avg_votes = {}\n",
    "writer_max_votes = {}\n",
    "writer_min_votes = {}\n",
    "\n",
    "for index, row in df.iterrows():\n",
    "    writers = row['writers'].split(',')\n",
    "    votes = row['numVotes']\n",
    "    for writer in writers:\n",
    "        writer_avg_votes[writer] = writer_avg_votes.get(writer, []) + [votes]\n",
    "        if writer not in writer_max_votes or votes > writer_max_votes[writer]:\n",
    "            writer_max_votes[writer] = votes\n",
    "        if writer not in writer_min_votes or votes < writer_min_votes[writer]:\n",
    "            writer_min_votes[writer] = votes\n",
    "\n",
    "for index, row in test.iterrows():\n",
    "    writers = row['writers'].split(',')\n",
    "    votes = row['numVotes']\n",
    "    for writer in writers:\n",
    "        writer_avg_votes[writer] = writer_avg_votes.get(writer, []) + [votes]\n",
    "        if writer not in writer_max_votes or votes > writer_max_votes[writer]:\n",
    "            writer_max_votes[writer] = votes\n",
    "        if writer not in writer_min_votes or votes < writer_min_votes[writer]:\n",
    "            writer_min_votes[writer] = votes\n",
    "\n",
    "for writer, votes in writer_avg_votes.items():\n",
    "    writer_avg_votes[writer] = sum(votes) / len(votes)\n",
    "\n",
    "df['avgVotes_writers'] = df['writers'].apply(lambda x: np.average([writer_avg_votes[d] for d in x.split(',')]))\n",
    "df['maxVotes_writers'] = df['writers'].apply(lambda x: max([writer_max_votes[d] for d in x.split(',')]))\n",
    "df['minVotes_writers'] = df['writers'].apply(lambda x: min([writer_min_votes[d] for d in x.split(',')]))\n",
    "\n",
    "test['avgVotes_writers'] = test['writers'].apply(lambda x: np.average([writer_avg_votes[d] for d in x.split(',')]))\n",
    "test['maxVotes_writers'] = test['writers'].apply(lambda x: max([writer_max_votes[d] for d in x.split(',')]))\n",
    "test['minVotes_writers'] = test['writers'].apply(lambda x: min([writer_min_votes[d] for d in x.split(',')]))"
   ]
  },
  {
   "cell_type": "code",
   "execution_count": 13,
   "metadata": {},
   "outputs": [],
   "source": [
    "frequency_encoder(df, test, 'writers')\n",
    "frequency_encoder(df, test, 'directors')"
   ]
  },
  {
   "cell_type": "code",
   "execution_count": 14,
   "metadata": {},
   "outputs": [
    {
     "name": "stdout",
     "output_type": "stream",
     "text": [
      "1287\n"
     ]
    }
   ],
   "source": [
    "print(df['writers'].str.count(',').max())\n",
    "# Se pueden tener hasta 1288 escritores\n",
    "df['CantEscritores'] = df['writers'].str.count(',') + 1\n",
    "test['CantEscritores'] = test['writers'].str.count(',') + 1\n",
    "\n",
    "\n",
    "# Se pueden tener hasta 475 directores\n",
    "df['CantDirectores'] = df['directors'].str.count(',') + 1\n",
    "test['CantDirectores'] = test['directors'].str.count(',') + 1"
   ]
  },
  {
   "cell_type": "code",
   "execution_count": 15,
   "metadata": {},
   "outputs": [],
   "source": [
    "df = df.drop('tagline', axis = 1)\n",
    "test = test.drop('tagline', axis = 1)"
   ]
  },
  {
   "cell_type": "code",
   "execution_count": 16,
   "metadata": {},
   "outputs": [],
   "source": [
    "def columnasDummies(df, unique_values, column):\n",
    "    for value in unique_values:\n",
    "        new_column_name = f\"{column}_{value}\" \n",
    "        df[new_column_name] = (df[column] == value).astype(int)"
   ]
  },
  {
   "cell_type": "code",
   "execution_count": 17,
   "metadata": {},
   "outputs": [],
   "source": [
    "columnasDummies(df, df['adult'].unique(), 'adult')\n",
    "columnasDummies(test, test['adult'].unique(), 'adult')\n",
    "frequency_encoder(df, test, 'adult')"
   ]
  },
  {
   "cell_type": "code",
   "execution_count": 18,
   "metadata": {},
   "outputs": [],
   "source": [
    "columnasDummies(df, df['titleType'].unique(), 'titleType')\n",
    "columnasDummies(test, test['titleType'].unique(), 'titleType')\n",
    "frequency_encoder(df, test, 'titleType')"
   ]
  },
  {
   "cell_type": "code",
   "execution_count": 19,
   "metadata": {},
   "outputs": [],
   "source": [
    "frequency_encoder(df, test, 'attributes')"
   ]
  },
  {
   "cell_type": "code",
   "execution_count": 20,
   "metadata": {},
   "outputs": [],
   "source": [
    "dummy_df = pd.get_dummies(df['original_language'], prefix='original_language', prefix_sep='_')\n",
    "df = pd.concat([df, dummy_df], axis=1)\n",
    "\n",
    "dummy_test = pd.get_dummies(test['original_language'], prefix='original_language', prefix_sep='_')\n",
    "test = pd.concat([test, dummy_test], axis=1)\n",
    "frequency_encoder(df, test, 'original_language')"
   ]
  },
  {
   "cell_type": "code",
   "execution_count": 21,
   "metadata": {},
   "outputs": [],
   "source": [
    "columnasDummies(df, df['status'].unique(), 'status')\n",
    "columnasDummies(test, test['status'].unique(), 'status')\n",
    "frequency_encoder(df, test, 'status')\n",
    "df = df.drop(columns=['status'])\n",
    "test = test.drop(columns=['status'])"
   ]
  },
  {
   "cell_type": "code",
   "execution_count": 22,
   "metadata": {},
   "outputs": [],
   "source": [
    "columnasDummies(df, df['video'].unique(), 'video')\n",
    "columnasDummies(test, test['video'].unique(), 'video')\n",
    "frequency_encoder(df, test, 'video')\n",
    "df = df.drop(columns=['video'])\n",
    "test = test.drop(columns=['video'])"
   ]
  },
  {
   "cell_type": "code",
   "execution_count": 23,
   "metadata": {},
   "outputs": [],
   "source": [
    "dummiesGenreX = df['genres_x'].str.get_dummies(sep=',')\n",
    "dummiesGenreX.columns = 'x' + dummiesGenreX.columns\n",
    "df = pd.concat([df, dummiesGenreX], axis=1)\n",
    "df['CantGenerosX'] = df['genres_x'].str.count(',') + 1\n",
    "\n",
    "dummiesGenreX = test['genres_x'].str.get_dummies(sep=',')\n",
    "dummiesGenreX.columns = 'x' + dummiesGenreX.columns\n",
    "test = pd.concat([test, dummiesGenreX], axis=1)\n",
    "test['CantGenerosX'] = test['genres_x'].str.count(',') + 1\n",
    "\n",
    "frequency_encoder(df, test, 'genres_x')"
   ]
  },
  {
   "cell_type": "code",
   "execution_count": 24,
   "metadata": {},
   "outputs": [],
   "source": [
    "dummiesGenreY = df['genre_y'].str.get_dummies(sep=',')\n",
    "dummiesGenreY.columns = 'y' + dummiesGenreY.columns\n",
    "df = pd.concat([df, dummiesGenreY], axis=1)\n",
    "df['CantGenerosY'] = df['genre_y'].str.count(', ') \n",
    "\n",
    "dummiesGenreY = test['genre_y'].str.get_dummies(sep=',')\n",
    "dummiesGenreY.columns = 'y' + dummiesGenreY.columns\n",
    "test = pd.concat([test, dummiesGenreY], axis=1)\n",
    "test['CantGenerosY'] = test['genre_y'].str.count(', ')\n",
    "\n",
    "frequency_encoder(df, test, 'genre_y')"
   ]
  },
  {
   "cell_type": "code",
   "execution_count": 25,
   "metadata": {},
   "outputs": [],
   "source": [
    "dummiesCountries = df['countries'].str.get_dummies(sep=', ')\n",
    "df = pd.concat([df, dummiesCountries], axis=1)\n",
    "df['CantPaises'] = df['countries'].str.count(', ') \n",
    "\n",
    "dummiesCountries = test['countries'].str.get_dummies(sep=', ')\n",
    "test = pd.concat([test, dummiesCountries], axis=1)\n",
    "test['CantPaises'] = test['countries'].str.count(', ')\n",
    "\n",
    "frequency_encoder(df, test, 'countries')"
   ]
  },
  {
   "cell_type": "code",
   "execution_count": 26,
   "metadata": {},
   "outputs": [],
   "source": [
    "frequency_encoder(df, test, 'companies')\n",
    "df['CantCompanias'] = df['companies'].str.count(', ') \n",
    "test['CantCompanias'] = test['companies'].str.count(', ')"
   ]
  },
  {
   "cell_type": "code",
   "execution_count": 27,
   "metadata": {},
   "outputs": [],
   "source": [
    "promedioGeneral = df['numVotes'].mean()\n",
    "medianaGeneral = df['numVotes'].median()\n",
    "\n",
    "df['diferenciaConMedia'] = df['numVotes'] - promedioGeneral\n",
    "df['diferenciaConMediana'] = df['numVotes'] - medianaGeneral\n",
    "test['diferenciaConMedia'] = test['numVotes'] - promedioGeneral\n",
    "test['diferenciaConMediana'] = test['numVotes'] - medianaGeneral"
   ]
  },
  {
   "cell_type": "code",
   "execution_count": 28,
   "metadata": {},
   "outputs": [],
   "source": [
    "test = test.drop(columns=['adult'])\n",
    "test = test.drop(columns=['isAdult'])\n",
    "df = df.drop(columns=['adult'])\n",
    "df = df.drop(columns=['isAdult'])"
   ]
  },
  {
   "cell_type": "code",
   "execution_count": 29,
   "metadata": {},
   "outputs": [],
   "source": [
    "test = test.drop(columns=['language'])\n",
    "test = test.drop(columns=['original_language'])\n",
    "df = df.drop(columns=['language'])\n",
    "df = df.drop(columns=['original_language'])"
   ]
  },
  {
   "cell_type": "code",
   "execution_count": 30,
   "metadata": {},
   "outputs": [],
   "source": [
    "test = test.drop(columns=['genres_x'])\n",
    "df = df.drop(columns=['genres_x'])"
   ]
  },
  {
   "cell_type": "code",
   "execution_count": 31,
   "metadata": {},
   "outputs": [],
   "source": [
    "test = test.drop(columns=['genre_y'])\n",
    "test = test.drop(columns=['genres_y'])\n",
    "df = df.drop(columns=['genre_y'])\n",
    "df = df.drop(columns=['genres_y'])"
   ]
  },
  {
   "cell_type": "code",
   "execution_count": 32,
   "metadata": {},
   "outputs": [],
   "source": [
    "test = test.drop(columns=['production_countries'])\n",
    "test = test.drop(columns=['countries'])\n",
    "df = df.drop(columns=['production_countries'])\n",
    "df = df.drop(columns=['countries'])"
   ]
  },
  {
   "cell_type": "code",
   "execution_count": 33,
   "metadata": {},
   "outputs": [],
   "source": [
    "test = test.drop(columns=['production_companies'])\n",
    "test = test.drop(columns=['companies'])\n",
    "df = df.drop(columns=['production_companies'])\n",
    "df = df.drop(columns=['companies'])"
   ]
  },
  {
   "cell_type": "code",
   "execution_count": 34,
   "metadata": {},
   "outputs": [],
   "source": [
    "missing_columns = list(set(df.columns) - set(test.columns))\n",
    "missing_df = pd.DataFrame(0, columns=missing_columns, index=test.index)\n",
    "test = pd.concat([test, missing_df], axis=1)\n",
    "extra_columns = list(set(test.columns) - set(df.columns))\n",
    "test = test.drop(extra_columns, axis=1)"
   ]
  },
  {
   "cell_type": "code",
   "execution_count": 35,
   "metadata": {},
   "outputs": [
    {
     "name": "stdout",
     "output_type": "stream",
     "text": [
      "Columnas no numéricas en el DataFrame:\n",
      "[]\n"
     ]
    }
   ],
   "source": [
    "df = df.drop(columns=['titleType', 'directors', 'writers', 'attributes'])\n",
    "test = test.drop(columns=['titleType', 'directors', 'writers', 'attributes'])\n",
    "non_numeric_columns = df.select_dtypes(include=['object']).columns.tolist()\n",
    "\n",
    "print(\"Columnas no numéricas en el DataFrame:\")\n",
    "print(non_numeric_columns)"
   ]
  },
  {
   "cell_type": "code",
   "execution_count": 36,
   "metadata": {},
   "outputs": [],
   "source": [
    "df.fillna(0, inplace=True)\n",
    "test.fillna(0, inplace=True)"
   ]
  },
  {
   "cell_type": "markdown",
   "metadata": {},
   "source": [
    "# Modelos Predictivos "
   ]
  },
  {
   "cell_type": "code",
   "execution_count": 37,
   "metadata": {},
   "outputs": [],
   "source": [
    "X = df.drop(['averageRating'], axis=1)\n",
    "y = df['averageRating']\n",
    "X_train, X_test, y_train, y_test = train_test_split(X, y, test_size = 0.3, random_state = 42)"
   ]
  },
  {
   "cell_type": "code",
   "execution_count": 44,
   "metadata": {},
   "outputs": [
    {
     "name": "stdout",
     "output_type": "stream",
     "text": [
      "Mean Squared Error on Evaluation Set: 0.9775749307824022\n",
      "Coeficiente de determinación (R2) on Evaluation Set: 0.5016486867583072\n"
     ]
    }
   ],
   "source": [
    "import xgboost as xgb\n",
    "import pandas as pd\n",
    "from sklearn.metrics import mean_squared_error\n",
    "from sklearn.model_selection import train_test_split\n",
    "\n",
    "X_train = df.drop('averageRating', axis=1)\n",
    "y_train = df['averageRating']\n",
    "\n",
    "X_train, X_eval, y_train, y_eval = train_test_split(X_train, y_train, test_size=0.2, random_state=42)\n",
    "\n",
    "reg_model = xgb.XGBRegressor(objective='reg:squarederror', n_estimators=1000, learning_rate=0.1, max_depth=15, reg_lambda=0, reg_alpha=2, random_state=13)\n",
    "\n",
    "reg_model.fit(X_train, y_train)\n",
    "\n",
    "y_pred_eval = reg_model.predict(X_eval)\n",
    "\n",
    "mse = mean_squared_error(y_eval, y_pred_eval)\n",
    "print(f\"Mean Squared Error on Evaluation Set: {mse}\")\n",
    "\n",
    "r2 = r2_score(y_eval, y_pred_eval)\n",
    "print(f\"Coeficiente de determinación (R2) on Evaluation Set: {r2}\")\n",
    "\n",
    "test = test.reindex(columns=X_train.columns, fill_value=0)\n",
    "\n",
    "test_predictions = reg_model.predict(test)\n",
    "\n",
    "prediction_df = pd.DataFrame({'Id': test.index, 'Predicted_averageRating': test_predictions})\n",
    "\n",
    "prediction_df.to_csv('predictions.csv', index=False)"
   ]
  },
  {
   "cell_type": "markdown",
   "metadata": {},
   "source": [
    "# Extra Tree Regressor"
   ]
  },
  {
   "cell_type": "code",
   "execution_count": 45,
   "metadata": {},
   "outputs": [],
   "source": [
    "extra = ExtraTreesRegressor(max_depth= 40, min_samples_split=13, n_estimators=2000, bootstrap=True) \n",
    "extra.fit(X_train, y_train)     "
   ]
  },
  {
   "cell_type": "code",
   "execution_count": null,
   "metadata": {},
   "outputs": [],
   "source": [
    "columnasSinTarget = [col for col in df.columns if col != 'averageRating']\n",
    "resultado = extra.predict(test[columnasSinTarget])\n",
    "\n",
    "prediction_df = pd.DataFrame({'Id': test.index, 'Predicted_averageRating': resultado})\n",
    "\n",
    "prediction_df.to_csv('predictionextratrees.csv', index=False)"
   ]
  },
  {
   "cell_type": "markdown",
   "metadata": {},
   "source": [
    "# Random Forest"
   ]
  },
  {
   "cell_type": "code",
   "execution_count": null,
   "metadata": {},
   "outputs": [],
   "source": [
    "X_train, X_eval, y_train, y_eval = train_test_split(X_train, y_train, test_size=0.2, random_state=13)\n",
    "\n",
    "X_train = pd.DataFrame(X_train, columns=X.columns)\n",
    "reg_model = RandomForestRegressor(n_estimators=1000, random_state=13) \n",
    "reg_model.fit(X_train, y_train)"
   ]
  },
  {
   "cell_type": "code",
   "execution_count": null,
   "metadata": {},
   "outputs": [
    {
     "name": "stdout",
     "output_type": "stream",
     "text": [
      "Mean Squared Error on Evaluation Set: 1.0222340169823911\n",
      "Coeficiente de determinación (R2) on Evaluation Set: 0.4808193713932759\n"
     ]
    }
   ],
   "source": [
    "y_pred_eval = reg_model.predict(X_eval)\n",
    "mse = mean_squared_error(y_eval, y_pred_eval)\n",
    "print(f\"Mean Squared Error on Evaluation Set: {mse}\")\n",
    "\n",
    "r2 = r2_score(y_eval, y_pred_eval)\n",
    "print(f\"Coeficiente de determinación (R2) on Evaluation Set: {r2}\")\n",
    "\n",
    "test = test.reindex(columns=X.columns, fill_value=0)\n",
    "test_predictions = reg_model.predict(test)\n",
    "\n",
    "prediction_df = pd.DataFrame({'Id': test.index, 'Predicted_averageRating': test_predictions})\n",
    "prediction_df.to_csv('predictions.csv', index=False)"
   ]
  }
 ],
 "metadata": {
  "kernelspec": {
   "display_name": "Python 3",
   "language": "python",
   "name": "python3"
  },
  "language_info": {
   "codemirror_mode": {
    "name": "ipython",
    "version": 3
   },
   "file_extension": ".py",
   "mimetype": "text/x-python",
   "name": "python",
   "nbconvert_exporter": "python",
   "pygments_lexer": "ipython3",
   "version": "3.11.5"
  }
 },
 "nbformat": 4,
 "nbformat_minor": 2
}
