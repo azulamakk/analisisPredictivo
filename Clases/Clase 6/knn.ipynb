{
 "cells": [
  {
   "attachments": {},
   "cell_type": "markdown",
   "metadata": {},
   "source": [
    "# K-nearest Neighbors\n",
    "\n",
    "Ejemplo de clasificación con KNN con sklearn"
   ]
  },
  {
   "cell_type": "code",
   "execution_count": 1,
   "metadata": {},
   "outputs": [],
   "source": [
    "import pandas as pd\n",
    "import seaborn as sns\n",
    "import matplotlib.pyplot as plt\n",
    "from sklearn.model_selection import train_test_split\n",
    "from sklearn.pipeline import Pipeline\n",
    "from sklearn.preprocessing import MinMaxScaler\n",
    "from feature_engine.encoding import OneHotEncoder\n",
    "from sklearn.neighbors import KNeighborsClassifier\n",
    "from sklearn.metrics import accuracy_score, confusion_matrix\n",
    "from sklearn.model_selection import GridSearchCV, PredefinedSplit\n"
   ]
  },
  {
   "cell_type": "code",
   "execution_count": 2,
   "metadata": {},
   "outputs": [],
   "source": [
    "%load_ext watermark\n"
   ]
  },
  {
   "cell_type": "code",
   "execution_count": 3,
   "metadata": {},
   "outputs": [
    {
     "name": "stdout",
     "output_type": "stream",
     "text": [
      "Python implementation: CPython\n",
      "Python version       : 3.9.13\n",
      "IPython version      : 8.8.0\n",
      "\n",
      "pandas        : 1.5.0\n",
      "matplotlib    : 3.7.1\n",
      "sklearn       : 1.2.2\n",
      "feature_engine: 1.6.0\n",
      "\n"
     ]
    }
   ],
   "source": [
    "%watermark -v -p \"pandas,matplotlib,sklearn,feature_engine\"\n"
   ]
  },
  {
   "attachments": {},
   "cell_type": "markdown",
   "metadata": {},
   "source": [
    "## Datos\n",
    "\n",
    "Usamos el dataset `penguins` de seaborn creado por [Allison Horst](https://github.com/allisonhorst/palmerpenguins#about-the-data)."
   ]
  },
  {
   "cell_type": "code",
   "execution_count": 4,
   "metadata": {},
   "outputs": [],
   "source": [
    "df = sns.load_dataset(\"penguins\")\n"
   ]
  },
  {
   "cell_type": "code",
   "execution_count": 5,
   "metadata": {},
   "outputs": [
    {
     "name": "stdout",
     "output_type": "stream",
     "text": [
      "<class 'pandas.core.frame.DataFrame'>\n",
      "RangeIndex: 344 entries, 0 to 343\n",
      "Data columns (total 7 columns):\n",
      " #   Column             Non-Null Count  Dtype  \n",
      "---  ------             --------------  -----  \n",
      " 0   species            344 non-null    object \n",
      " 1   island             344 non-null    object \n",
      " 2   bill_length_mm     342 non-null    float64\n",
      " 3   bill_depth_mm      342 non-null    float64\n",
      " 4   flipper_length_mm  342 non-null    float64\n",
      " 5   body_mass_g        342 non-null    float64\n",
      " 6   sex                333 non-null    object \n",
      "dtypes: float64(4), object(3)\n",
      "memory usage: 18.9+ KB\n"
     ]
    }
   ],
   "source": [
    "df.info()\n"
   ]
  },
  {
   "attachments": {},
   "cell_type": "markdown",
   "metadata": {},
   "source": [
    "Por simplicidad, eliminamos los registros con datos faltantes. \n",
    "\n",
    "**OJO** en un caso real hay que evaluar esto con cuidado! "
   ]
  },
  {
   "cell_type": "code",
   "execution_count": 6,
   "metadata": {},
   "outputs": [],
   "source": [
    "df = df.dropna()\n"
   ]
  },
  {
   "cell_type": "code",
   "execution_count": 7,
   "metadata": {},
   "outputs": [
    {
     "data": {
      "text/plain": [
       "Adelie       146\n",
       "Gentoo       119\n",
       "Chinstrap     68\n",
       "Name: species, dtype: int64"
      ]
     },
     "execution_count": 7,
     "metadata": {},
     "output_type": "execute_result"
    }
   ],
   "source": [
    "df['species'].value_counts()\n"
   ]
  },
  {
   "attachments": {},
   "cell_type": "markdown",
   "metadata": {},
   "source": [
    "Separamos los datos en features y target."
   ]
  },
  {
   "cell_type": "code",
   "execution_count": 8,
   "metadata": {},
   "outputs": [],
   "source": [
    "X = df.drop(columns=['species'])\n",
    "y = df['species']\n"
   ]
  },
  {
   "attachments": {},
   "cell_type": "markdown",
   "metadata": {},
   "source": [
    "Particionamos los datos en training y validation.\n",
    "\n",
    "Estamos asumiendo que previamente hicimos una partición en train y test. Es decir, la partición final se ve así:\n",
    "\n",
    "<img src=\"train_val_test.png\">"
   ]
  },
  {
   "cell_type": "code",
   "execution_count": 9,
   "metadata": {},
   "outputs": [],
   "source": [
    "X_train, X_val, y_train, y_val = train_test_split(X, y, test_size=0.25, random_state=33)\n"
   ]
  },
  {
   "attachments": {},
   "cell_type": "markdown",
   "metadata": {},
   "source": [
    "## Modelo"
   ]
  },
  {
   "attachments": {},
   "cell_type": "markdown",
   "metadata": {},
   "source": [
    "### Entrenamiento \n",
    "\n",
    "Vamos a usar pipelines de sklearn y la librería feature-engine para _entrenar_ el preprocesamiento y el modelo. Vamos a ver más en detalle estas herramientas en la próxima clase :)"
   ]
  },
  {
   "cell_type": "code",
   "execution_count": 10,
   "metadata": {},
   "outputs": [
    {
     "data": {
      "text/html": [
       "<div>\n",
       "<style scoped>\n",
       "    .dataframe tbody tr th:only-of-type {\n",
       "        vertical-align: middle;\n",
       "    }\n",
       "\n",
       "    .dataframe tbody tr th {\n",
       "        vertical-align: top;\n",
       "    }\n",
       "\n",
       "    .dataframe thead th {\n",
       "        text-align: right;\n",
       "    }\n",
       "</style>\n",
       "<table border=\"1\" class=\"dataframe\">\n",
       "  <thead>\n",
       "    <tr style=\"text-align: right;\">\n",
       "      <th></th>\n",
       "      <th>island</th>\n",
       "      <th>bill_length_mm</th>\n",
       "      <th>bill_depth_mm</th>\n",
       "      <th>flipper_length_mm</th>\n",
       "      <th>body_mass_g</th>\n",
       "      <th>sex</th>\n",
       "    </tr>\n",
       "  </thead>\n",
       "  <tbody>\n",
       "    <tr>\n",
       "      <th>313</th>\n",
       "      <td>Biscoe</td>\n",
       "      <td>49.5</td>\n",
       "      <td>16.1</td>\n",
       "      <td>224.0</td>\n",
       "      <td>5650.0</td>\n",
       "      <td>Male</td>\n",
       "    </tr>\n",
       "    <tr>\n",
       "      <th>236</th>\n",
       "      <td>Biscoe</td>\n",
       "      <td>42.0</td>\n",
       "      <td>13.5</td>\n",
       "      <td>210.0</td>\n",
       "      <td>4150.0</td>\n",
       "      <td>Female</td>\n",
       "    </tr>\n",
       "    <tr>\n",
       "      <th>284</th>\n",
       "      <td>Biscoe</td>\n",
       "      <td>45.8</td>\n",
       "      <td>14.2</td>\n",
       "      <td>219.0</td>\n",
       "      <td>4700.0</td>\n",
       "      <td>Female</td>\n",
       "    </tr>\n",
       "    <tr>\n",
       "      <th>22</th>\n",
       "      <td>Biscoe</td>\n",
       "      <td>35.9</td>\n",
       "      <td>19.2</td>\n",
       "      <td>189.0</td>\n",
       "      <td>3800.0</td>\n",
       "      <td>Female</td>\n",
       "    </tr>\n",
       "    <tr>\n",
       "      <th>140</th>\n",
       "      <td>Dream</td>\n",
       "      <td>40.2</td>\n",
       "      <td>17.1</td>\n",
       "      <td>193.0</td>\n",
       "      <td>3400.0</td>\n",
       "      <td>Female</td>\n",
       "    </tr>\n",
       "    <tr>\n",
       "      <th>93</th>\n",
       "      <td>Dream</td>\n",
       "      <td>39.6</td>\n",
       "      <td>18.1</td>\n",
       "      <td>186.0</td>\n",
       "      <td>4450.0</td>\n",
       "      <td>Male</td>\n",
       "    </tr>\n",
       "  </tbody>\n",
       "</table>\n",
       "</div>"
      ],
      "text/plain": [
       "     island  bill_length_mm  bill_depth_mm  flipper_length_mm  body_mass_g  \\\n",
       "313  Biscoe            49.5           16.1              224.0       5650.0   \n",
       "236  Biscoe            42.0           13.5              210.0       4150.0   \n",
       "284  Biscoe            45.8           14.2              219.0       4700.0   \n",
       "22   Biscoe            35.9           19.2              189.0       3800.0   \n",
       "140   Dream            40.2           17.1              193.0       3400.0   \n",
       "93    Dream            39.6           18.1              186.0       4450.0   \n",
       "\n",
       "        sex  \n",
       "313    Male  \n",
       "236  Female  \n",
       "284  Female  \n",
       "22   Female  \n",
       "140  Female  \n",
       "93     Male  "
      ]
     },
     "execution_count": 10,
     "metadata": {},
     "output_type": "execute_result"
    }
   ],
   "source": [
    "X_train.head(6)\n"
   ]
  },
  {
   "attachments": {},
   "cell_type": "markdown",
   "metadata": {},
   "source": [
    "¿Qué transformaciones necesitamos aplicar para poder usar KNN?"
   ]
  },
  {
   "cell_type": "code",
   "execution_count": 11,
   "metadata": {},
   "outputs": [
    {
     "data": {
      "text/plain": [
       "Biscoe       118\n",
       "Dream         93\n",
       "Torgersen     38\n",
       "Name: island, dtype: int64"
      ]
     },
     "execution_count": 11,
     "metadata": {},
     "output_type": "execute_result"
    }
   ],
   "source": [
    "X_train[\"island\"].value_counts()\n"
   ]
  },
  {
   "cell_type": "code",
   "execution_count": 12,
   "metadata": {},
   "outputs": [
    {
     "data": {
      "text/plain": [
       "Male      133\n",
       "Female    116\n",
       "Name: sex, dtype: int64"
      ]
     },
     "execution_count": 12,
     "metadata": {},
     "output_type": "execute_result"
    }
   ],
   "source": [
    "X_train[\"sex\"].value_counts()\n"
   ]
  },
  {
   "attachments": {},
   "cell_type": "markdown",
   "metadata": {},
   "source": [
    "Vamos a: \n",
    "\n",
    "1. convertir las variables categóricas en numéricas\n",
    "2. normalizar todas las variables numéricas (luego de 1 todas son numéricas)"
   ]
  },
  {
   "cell_type": "code",
   "execution_count": 13,
   "metadata": {},
   "outputs": [
    {
     "name": "stdout",
     "output_type": "stream",
     "text": [
      "['island', 'sex']\n",
      "['bill_length_mm', 'bill_depth_mm', 'flipper_length_mm', 'body_mass_g']\n",
      "['island', 'bill_length_mm', 'bill_depth_mm', 'flipper_length_mm', 'body_mass_g', 'sex']\n"
     ]
    }
   ],
   "source": [
    "all_features = X.columns.tolist()\n",
    "categorical_features = [c for c in all_features if X_train[c].dtype == 'object']\n",
    "numeric_features = [c for c in all_features if X_train[c].dtype != 'object']\n",
    "\n",
    "print(categorical_features)\n",
    "print(numeric_features)\n",
    "print(all_features)\n"
   ]
  },
  {
   "cell_type": "code",
   "execution_count": 14,
   "metadata": {},
   "outputs": [],
   "source": [
    "pipe = Pipeline([\n",
    "    (\"cat_encoder\", OneHotEncoder(variables=categorical_features)),\n",
    "    (\"scaler\", MinMaxScaler()),\n",
    "    (\"clf\", KNeighborsClassifier(n_neighbors=5, weights='uniform', metric='manhattan')),\n",
    "])\n"
   ]
  },
  {
   "cell_type": "code",
   "execution_count": 15,
   "metadata": {},
   "outputs": [
    {
     "data": {
      "text/html": [
       "<style>#sk-container-id-1 {color: black;background-color: white;}#sk-container-id-1 pre{padding: 0;}#sk-container-id-1 div.sk-toggleable {background-color: white;}#sk-container-id-1 label.sk-toggleable__label {cursor: pointer;display: block;width: 100%;margin-bottom: 0;padding: 0.3em;box-sizing: border-box;text-align: center;}#sk-container-id-1 label.sk-toggleable__label-arrow:before {content: \"▸\";float: left;margin-right: 0.25em;color: #696969;}#sk-container-id-1 label.sk-toggleable__label-arrow:hover:before {color: black;}#sk-container-id-1 div.sk-estimator:hover label.sk-toggleable__label-arrow:before {color: black;}#sk-container-id-1 div.sk-toggleable__content {max-height: 0;max-width: 0;overflow: hidden;text-align: left;background-color: #f0f8ff;}#sk-container-id-1 div.sk-toggleable__content pre {margin: 0.2em;color: black;border-radius: 0.25em;background-color: #f0f8ff;}#sk-container-id-1 input.sk-toggleable__control:checked~div.sk-toggleable__content {max-height: 200px;max-width: 100%;overflow: auto;}#sk-container-id-1 input.sk-toggleable__control:checked~label.sk-toggleable__label-arrow:before {content: \"▾\";}#sk-container-id-1 div.sk-estimator input.sk-toggleable__control:checked~label.sk-toggleable__label {background-color: #d4ebff;}#sk-container-id-1 div.sk-label input.sk-toggleable__control:checked~label.sk-toggleable__label {background-color: #d4ebff;}#sk-container-id-1 input.sk-hidden--visually {border: 0;clip: rect(1px 1px 1px 1px);clip: rect(1px, 1px, 1px, 1px);height: 1px;margin: -1px;overflow: hidden;padding: 0;position: absolute;width: 1px;}#sk-container-id-1 div.sk-estimator {font-family: monospace;background-color: #f0f8ff;border: 1px dotted black;border-radius: 0.25em;box-sizing: border-box;margin-bottom: 0.5em;}#sk-container-id-1 div.sk-estimator:hover {background-color: #d4ebff;}#sk-container-id-1 div.sk-parallel-item::after {content: \"\";width: 100%;border-bottom: 1px solid gray;flex-grow: 1;}#sk-container-id-1 div.sk-label:hover label.sk-toggleable__label {background-color: #d4ebff;}#sk-container-id-1 div.sk-serial::before {content: \"\";position: absolute;border-left: 1px solid gray;box-sizing: border-box;top: 0;bottom: 0;left: 50%;z-index: 0;}#sk-container-id-1 div.sk-serial {display: flex;flex-direction: column;align-items: center;background-color: white;padding-right: 0.2em;padding-left: 0.2em;position: relative;}#sk-container-id-1 div.sk-item {position: relative;z-index: 1;}#sk-container-id-1 div.sk-parallel {display: flex;align-items: stretch;justify-content: center;background-color: white;position: relative;}#sk-container-id-1 div.sk-item::before, #sk-container-id-1 div.sk-parallel-item::before {content: \"\";position: absolute;border-left: 1px solid gray;box-sizing: border-box;top: 0;bottom: 0;left: 50%;z-index: -1;}#sk-container-id-1 div.sk-parallel-item {display: flex;flex-direction: column;z-index: 1;position: relative;background-color: white;}#sk-container-id-1 div.sk-parallel-item:first-child::after {align-self: flex-end;width: 50%;}#sk-container-id-1 div.sk-parallel-item:last-child::after {align-self: flex-start;width: 50%;}#sk-container-id-1 div.sk-parallel-item:only-child::after {width: 0;}#sk-container-id-1 div.sk-dashed-wrapped {border: 1px dashed gray;margin: 0 0.4em 0.5em 0.4em;box-sizing: border-box;padding-bottom: 0.4em;background-color: white;}#sk-container-id-1 div.sk-label label {font-family: monospace;font-weight: bold;display: inline-block;line-height: 1.2em;}#sk-container-id-1 div.sk-label-container {text-align: center;}#sk-container-id-1 div.sk-container {/* jupyter's `normalize.less` sets `[hidden] { display: none; }` but bootstrap.min.css set `[hidden] { display: none !important; }` so we also need the `!important` here to be able to override the default hidden behavior on the sphinx rendered scikit-learn.org. See: https://github.com/scikit-learn/scikit-learn/issues/21755 */display: inline-block !important;position: relative;}#sk-container-id-1 div.sk-text-repr-fallback {display: none;}</style><div id=\"sk-container-id-1\" class=\"sk-top-container\"><div class=\"sk-text-repr-fallback\"><pre>Pipeline(steps=[(&#x27;cat_encoder&#x27;, OneHotEncoder(variables=[&#x27;island&#x27;, &#x27;sex&#x27;])),\n",
       "                (&#x27;scaler&#x27;, MinMaxScaler()),\n",
       "                (&#x27;clf&#x27;, KNeighborsClassifier(metric=&#x27;manhattan&#x27;))])</pre><b>In a Jupyter environment, please rerun this cell to show the HTML representation or trust the notebook. <br />On GitHub, the HTML representation is unable to render, please try loading this page with nbviewer.org.</b></div><div class=\"sk-container\" hidden><div class=\"sk-item sk-dashed-wrapped\"><div class=\"sk-label-container\"><div class=\"sk-label sk-toggleable\"><input class=\"sk-toggleable__control sk-hidden--visually\" id=\"sk-estimator-id-1\" type=\"checkbox\" ><label for=\"sk-estimator-id-1\" class=\"sk-toggleable__label sk-toggleable__label-arrow\">Pipeline</label><div class=\"sk-toggleable__content\"><pre>Pipeline(steps=[(&#x27;cat_encoder&#x27;, OneHotEncoder(variables=[&#x27;island&#x27;, &#x27;sex&#x27;])),\n",
       "                (&#x27;scaler&#x27;, MinMaxScaler()),\n",
       "                (&#x27;clf&#x27;, KNeighborsClassifier(metric=&#x27;manhattan&#x27;))])</pre></div></div></div><div class=\"sk-serial\"><div class=\"sk-item\"><div class=\"sk-estimator sk-toggleable\"><input class=\"sk-toggleable__control sk-hidden--visually\" id=\"sk-estimator-id-2\" type=\"checkbox\" ><label for=\"sk-estimator-id-2\" class=\"sk-toggleable__label sk-toggleable__label-arrow\">OneHotEncoder</label><div class=\"sk-toggleable__content\"><pre>OneHotEncoder(variables=[&#x27;island&#x27;, &#x27;sex&#x27;])</pre></div></div></div><div class=\"sk-item\"><div class=\"sk-estimator sk-toggleable\"><input class=\"sk-toggleable__control sk-hidden--visually\" id=\"sk-estimator-id-3\" type=\"checkbox\" ><label for=\"sk-estimator-id-3\" class=\"sk-toggleable__label sk-toggleable__label-arrow\">MinMaxScaler</label><div class=\"sk-toggleable__content\"><pre>MinMaxScaler()</pre></div></div></div><div class=\"sk-item\"><div class=\"sk-estimator sk-toggleable\"><input class=\"sk-toggleable__control sk-hidden--visually\" id=\"sk-estimator-id-4\" type=\"checkbox\" ><label for=\"sk-estimator-id-4\" class=\"sk-toggleable__label sk-toggleable__label-arrow\">KNeighborsClassifier</label><div class=\"sk-toggleable__content\"><pre>KNeighborsClassifier(metric=&#x27;manhattan&#x27;)</pre></div></div></div></div></div></div></div>"
      ],
      "text/plain": [
       "Pipeline(steps=[('cat_encoder', OneHotEncoder(variables=['island', 'sex'])),\n",
       "                ('scaler', MinMaxScaler()),\n",
       "                ('clf', KNeighborsClassifier(metric='manhattan'))])"
      ]
     },
     "execution_count": 15,
     "metadata": {},
     "output_type": "execute_result"
    }
   ],
   "source": [
    "pipe\n"
   ]
  },
  {
   "attachments": {},
   "cell_type": "markdown",
   "metadata": {},
   "source": [
    "Los pipelines y modelos de sklearn tienen tres métodos principales: `fit`, `transform` y `predict`.\n",
    "\n",
    "* `fit` entrena las transformaciones y el modelo\n",
    "  * las normalizaciones, por ejemplo, son transformaciones que se \"entrenan\" porque se calcular con los datos de entrenamiento, y luego se aplican a los datos de validación y test\n",
    "* `transform` aplica las transformaciones\n",
    "* `predict` predice con el modelo entrenado"
   ]
  },
  {
   "cell_type": "code",
   "execution_count": 16,
   "metadata": {},
   "outputs": [],
   "source": [
    "# entrenamos todo el pipeline\n",
    "_ = pipe.fit(X_train, y_train)\n"
   ]
  },
  {
   "cell_type": "code",
   "execution_count": 17,
   "metadata": {},
   "outputs": [
    {
     "data": {
      "text/plain": [
       "{'cat_encoder': OneHotEncoder(variables=['island', 'sex']),\n",
       " 'scaler': MinMaxScaler(),\n",
       " 'clf': KNeighborsClassifier(metric='manhattan')}"
      ]
     },
     "execution_count": 17,
     "metadata": {},
     "output_type": "execute_result"
    }
   ],
   "source": [
    "pipe.named_steps\n"
   ]
  },
  {
   "cell_type": "code",
   "execution_count": 18,
   "metadata": {},
   "outputs": [
    {
     "data": {
      "text/plain": [
       "(array([  33.1,   13.1,  172. , 2700. ,    0. ,    0. ,    0. ,    0. ,\n",
       "           0. ]),\n",
       " array([5.96e+01, 2.15e+01, 2.31e+02, 6.30e+03, 1.00e+00, 1.00e+00,\n",
       "        1.00e+00, 1.00e+00, 1.00e+00]))"
      ]
     },
     "execution_count": 18,
     "metadata": {},
     "output_type": "execute_result"
    }
   ],
   "source": [
    "# los estadisticos usados en el scaler:\n",
    "pipe.named_steps.scaler.data_min_, pipe.named_steps.scaler.data_max_\n"
   ]
  },
  {
   "cell_type": "code",
   "execution_count": 19,
   "metadata": {},
   "outputs": [
    {
     "data": {
      "text/plain": [
       "array([[0.61886792, 0.35714286, 0.88135593, ..., 0.        , 1.        ,\n",
       "        0.        ],\n",
       "       [0.33584906, 0.04761905, 0.6440678 , ..., 0.        , 0.        ,\n",
       "        1.        ],\n",
       "       [0.47924528, 0.13095238, 0.79661017, ..., 0.        , 0.        ,\n",
       "        1.        ],\n",
       "       ...,\n",
       "       [0.24528302, 0.48809524, 0.40677966, ..., 1.        , 0.        ,\n",
       "        1.        ],\n",
       "       [0.58867925, 0.11904762, 0.6440678 , ..., 0.        , 0.        ,\n",
       "        1.        ],\n",
       "       [0.08301887, 0.69047619, 0.25423729, ..., 0.        , 0.        ,\n",
       "        1.        ]])"
      ]
     },
     "execution_count": 19,
     "metadata": {},
     "output_type": "execute_result"
    }
   ],
   "source": [
    "# si aplicamos todos los pasos menos el modelo, obtenemos los datos transformados:\n",
    "pipe[:-1].transform(X_train)\n"
   ]
  },
  {
   "cell_type": "code",
   "execution_count": 20,
   "metadata": {},
   "outputs": [
    {
     "data": {
      "text/plain": [
       "array(['bill_length_mm', 'bill_depth_mm', 'flipper_length_mm',\n",
       "       'body_mass_g', 'island_Biscoe', 'island_Dream', 'island_Torgersen',\n",
       "       'sex_Male', 'sex_Female'], dtype=object)"
      ]
     },
     "execution_count": 20,
     "metadata": {},
     "output_type": "execute_result"
    }
   ],
   "source": [
    "# con estos nombres de columnas:\n",
    "pipe[:-1].get_feature_names_out()\n"
   ]
  },
  {
   "cell_type": "code",
   "execution_count": 21,
   "metadata": {},
   "outputs": [
    {
     "data": {
      "text/plain": [
       "{'island': ['Biscoe', 'Dream', 'Torgersen'], 'sex': ['Male', 'Female']}"
      ]
     },
     "execution_count": 21,
     "metadata": {},
     "output_type": "execute_result"
    }
   ],
   "source": [
    "# cualquier categoria nueva que no se haya visto en el set de entrenamiento, \n",
    "# se codifica como un 0 en todas las columnas:\n",
    "pipe.named_steps.cat_encoder.encoder_dict_\n"
   ]
  },
  {
   "cell_type": "code",
   "execution_count": 22,
   "metadata": {},
   "outputs": [
    {
     "data": {
      "text/plain": [
       "array([[ 0.6       ,  0.77380952,  0.6779661 ,  0.44444444,  0.        ,\n",
       "         1.        ,  0.        ,  1.        ,  0.        ],\n",
       "       [ 0.45283019,  0.1547619 ,  0.6440678 ,  0.47222222,  1.        ,\n",
       "         0.        ,  0.        ,  0.        ,  1.        ],\n",
       "       [ 0.24150943,  0.51190476,  0.23728814,  0.30555556,  0.        ,\n",
       "         0.        ,  1.        ,  0.        ,  1.        ],\n",
       "       [ 0.54339623,  0.10714286,  0.6779661 ,  0.60416667,  1.        ,\n",
       "         0.        ,  0.        ,  0.        ,  1.        ],\n",
       "       [ 0.50943396,  0.13095238,  0.6440678 ,  0.59722222,  1.        ,\n",
       "         0.        ,  0.        ,  0.        ,  1.        ],\n",
       "       [ 0.10566038,  0.41666667,  0.30508475,  0.09722222,  0.        ,\n",
       "         0.        ,  1.        ,  0.        ,  1.        ],\n",
       "       [ 0.4490566 ,  0.27380952,  0.81355932,  0.65277778,  1.        ,\n",
       "         0.        ,  0.        ,  1.        ,  0.        ],\n",
       "       [ 0.30188679,  0.5952381 ,  0.55932203,  0.44444444,  0.        ,\n",
       "         1.        ,  0.        ,  1.        ,  0.        ],\n",
       "       [ 0.66415094,  0.78571429,  0.52542373,  0.375     ,  0.        ,\n",
       "         1.        ,  0.        ,  1.        ,  0.        ],\n",
       "       [ 0.79622642,  0.91666667,  0.49152542,  0.44444444,  0.        ,\n",
       "         1.        ,  0.        ,  1.        ,  0.        ],\n",
       "       [ 0.50566038,  0.1547619 ,  0.76271186,  0.61111111,  1.        ,\n",
       "         0.        ,  0.        ,  0.        ,  1.        ],\n",
       "       [ 0.56603774,  0.39285714,  0.45762712,  0.17361111,  0.        ,\n",
       "         1.        ,  0.        ,  0.        ,  1.        ],\n",
       "       [ 0.60754717,  0.60714286,  0.38983051,  0.47222222,  0.        ,\n",
       "         1.        ,  0.        ,  1.        ,  0.        ],\n",
       "       [ 0.23396226,  0.89285714,  0.30508475,  0.26388889,  0.        ,\n",
       "         0.        ,  1.        ,  1.        ,  0.        ],\n",
       "       [ 0.65660377,  0.25      ,  0.74576271,  0.63888889,  1.        ,\n",
       "         0.        ,  0.        ,  0.        ,  1.        ],\n",
       "       [ 0.73207547,  0.29761905,  0.83050847,  0.76388889,  1.        ,\n",
       "         0.        ,  0.        ,  1.        ,  0.        ],\n",
       "       [ 0.39245283,  0.25      ,  0.69491525,  0.54166667,  1.        ,\n",
       "         0.        ,  0.        ,  0.        ,  1.        ],\n",
       "       [ 0.50188679,  0.29761905,  0.83050847,  0.63888889,  1.        ,\n",
       "         0.        ,  0.        ,  1.        ,  0.        ],\n",
       "       [ 0.66792453,  0.30952381,  0.91525424,  0.69444444,  1.        ,\n",
       "         0.        ,  0.        ,  1.        ,  0.        ],\n",
       "       [ 0.01509434,  0.70238095,  0.30508475,  0.25      ,  0.        ,\n",
       "         0.        ,  1.        ,  0.        ,  1.        ],\n",
       "       [ 0.29811321,  0.82142857,  0.52542373,  0.5625    ,  1.        ,\n",
       "         0.        ,  0.        ,  1.        ,  0.        ],\n",
       "       [ 0.59245283,  0.36904762,  0.84745763,  0.91666667,  1.        ,\n",
       "         0.        ,  0.        ,  1.        ,  0.        ],\n",
       "       [ 0.3245283 ,  0.19047619,  0.6440678 ,  0.55555556,  1.        ,\n",
       "         0.        ,  0.        ,  0.        ,  1.        ],\n",
       "       [ 0.46792453,  0.46428571,  0.40677966,  0.22222222,  0.        ,\n",
       "         1.        ,  0.        ,  0.        ,  1.        ],\n",
       "       [ 0.54339623,  0.22619048,  0.77966102,  0.625     ,  1.        ,\n",
       "         0.        ,  0.        ,  0.        ,  1.        ],\n",
       "       [ 0.10943396,  0.57142857,  0.30508475,  0.20833333,  0.        ,\n",
       "         1.        ,  0.        ,  0.        ,  1.        ],\n",
       "       [-0.03773585,  0.28571429,  0.27118644,  0.09722222,  0.        ,\n",
       "         1.        ,  0.        ,  0.        ,  1.        ],\n",
       "       [ 0.49056604,  0.60714286,  0.10169492,  0.15277778,  0.        ,\n",
       "         1.        ,  0.        ,  0.        ,  1.        ],\n",
       "       [ 0.57735849,  0.1547619 ,  0.52542373,  0.53472222,  1.        ,\n",
       "         0.        ,  0.        ,  0.        ,  1.        ],\n",
       "       [ 0.57735849,  0.38095238,  0.81355932,  0.75      ,  1.        ,\n",
       "         0.        ,  0.        ,  1.        ,  0.        ],\n",
       "       [ 0.40377358,  0.0952381 ,  0.61016949,  0.44444444,  1.        ,\n",
       "         0.        ,  0.        ,  0.        ,  1.        ],\n",
       "       [ 0.10943396,  0.47619048,  0.25423729,  0.27777778,  0.        ,\n",
       "         1.        ,  0.        ,  0.        ,  1.        ],\n",
       "       [ 0.29433962,  0.44047619,  0.3220339 ,  0.27777778,  0.        ,\n",
       "         0.        ,  1.        ,  0.        ,  1.        ],\n",
       "       [ 0.61886792,  0.36904762,  0.96610169,  0.86111111,  1.        ,\n",
       "         0.        ,  0.        ,  1.        ,  0.        ],\n",
       "       [ 0.12830189,  0.58333333,  0.16949153,  0.125     ,  0.        ,\n",
       "         1.        ,  0.        ,  0.        ,  1.        ],\n",
       "       [ 0.4754717 ,  0.0952381 ,  0.71186441,  0.47222222,  1.        ,\n",
       "         0.        ,  0.        ,  0.        ,  1.        ],\n",
       "       [ 0.61886792,  0.70238095,  0.47457627,  0.30555556,  0.        ,\n",
       "         1.        ,  0.        ,  1.        ,  0.        ],\n",
       "       [ 0.45660377,  0.20238095,  0.6779661 ,  0.69444444,  1.        ,\n",
       "         0.        ,  0.        ,  0.        ,  1.        ],\n",
       "       [ 0.64150943,  0.22619048,  0.89830508,  0.63888889,  1.        ,\n",
       "         0.        ,  0.        ,  1.        ,  0.        ],\n",
       "       [ 0.38490566,  0.10714286,  0.61016949,  0.52083333,  1.        ,\n",
       "         0.        ,  0.        ,  0.        ,  1.        ],\n",
       "       [ 0.55471698,  0.22619048,  0.72881356,  0.81944444,  1.        ,\n",
       "         0.        ,  0.        ,  1.        ,  0.        ],\n",
       "       [ 0.50188679,  0.6547619 ,  0.30508475,  0.20833333,  0.        ,\n",
       "         1.        ,  0.        ,  0.        ,  1.        ],\n",
       "       [ 0.58490566,  0.3452381 ,  0.98305085,  0.86111111,  1.        ,\n",
       "         0.        ,  0.        ,  1.        ,  0.        ],\n",
       "       [ 0.19245283,  0.82142857,  0.30508475,  0.33333333,  1.        ,\n",
       "         0.        ,  0.        ,  1.        ,  0.        ],\n",
       "       [ 0.47169811,  0.75      ,  0.37288136,  0.22916667,  0.        ,\n",
       "         1.        ,  0.        ,  0.        ,  1.        ],\n",
       "       [ 0.36226415,  0.07142857,  0.61016949,  0.34722222,  1.        ,\n",
       "         0.        ,  0.        ,  0.        ,  1.        ],\n",
       "       [ 0.54716981,  0.61904762,  0.38983051,  0.31944444,  0.        ,\n",
       "         1.        ,  0.        ,  0.        ,  1.        ],\n",
       "       [ 0.36603774,  0.64285714,  0.38983051,  0.43055556,  0.        ,\n",
       "         0.        ,  1.        ,  1.        ,  0.        ],\n",
       "       [ 0.70188679,  0.85714286,  0.37288136,  0.29861111,  0.        ,\n",
       "         1.        ,  0.        ,  1.        ,  0.        ],\n",
       "       [ 0.13962264,  0.64285714,  0.3559322 ,  0.22222222,  0.        ,\n",
       "         1.        ,  0.        ,  0.        ,  1.        ],\n",
       "       [ 0.21132075,  0.70238095,  0.38983051,  0.20833333,  0.        ,\n",
       "         0.        ,  1.        ,  0.        ,  1.        ],\n",
       "       [ 0.66037736,  0.75      ,  0.3559322 ,  0.30555556,  0.        ,\n",
       "         1.        ,  0.        ,  1.        ,  0.        ],\n",
       "       [ 0.86037736,  0.46428571,  0.94915254,  0.80555556,  1.        ,\n",
       "         0.        ,  0.        ,  1.        ,  0.        ],\n",
       "       [ 0.66792453,  0.5       ,  0.94915254,  0.80555556,  1.        ,\n",
       "         0.        ,  0.        ,  1.        ,  0.        ],\n",
       "       [ 0.10943396,  0.55952381,  0.38983051,  0.20833333,  0.        ,\n",
       "         1.        ,  0.        ,  0.        ,  1.        ],\n",
       "       [ 0.12830189,  0.41666667,  0.15254237,  0.04166667,  1.        ,\n",
       "         0.        ,  0.        ,  0.        ,  1.        ],\n",
       "       [ 0.39622642,  0.0952381 ,  0.76271186,  0.61111111,  1.        ,\n",
       "         0.        ,  0.        ,  0.        ,  1.        ],\n",
       "       [ 0.46792453,  0.16666667,  0.6779661 ,  0.56944444,  1.        ,\n",
       "         0.        ,  0.        ,  0.        ,  1.        ],\n",
       "       [ 0.3509434 ,  0.5       ,  0.15254237,  0.25      ,  0.        ,\n",
       "         1.        ,  0.        ,  0.        ,  1.        ],\n",
       "       [ 0.53584906,  0.26190476,  0.84745763,  0.70833333,  1.        ,\n",
       "         0.        ,  0.        ,  1.        ,  0.        ],\n",
       "       [ 0.28679245,  0.46428571,  0.30508475,  0.28472222,  0.        ,\n",
       "         1.        ,  0.        ,  1.        ,  0.        ],\n",
       "       [ 0.69433962,  0.38095238,  0.98305085,  0.77777778,  1.        ,\n",
       "         0.        ,  0.        ,  1.        ,  0.        ],\n",
       "       [ 0.36603774,  0.13095238,  0.62711864,  0.55555556,  1.        ,\n",
       "         0.        ,  0.        ,  0.        ,  1.        ],\n",
       "       [ 0.50566038,  0.20238095,  0.76271186,  0.69444444,  1.        ,\n",
       "         0.        ,  0.        ,  0.        ,  1.        ],\n",
       "       [ 0.65660377,  0.33333333,  0.89830508,  0.75      ,  1.        ,\n",
       "         0.        ,  0.        ,  1.        ,  0.        ],\n",
       "       [ 0.17358491,  0.3452381 ,  0.18644068,  0.10416667,  1.        ,\n",
       "         0.        ,  0.        ,  0.        ,  1.        ],\n",
       "       [ 0.31698113,  0.64285714,  0.49152542,  0.36111111,  0.        ,\n",
       "         1.        ,  0.        ,  1.        ,  0.        ],\n",
       "       [ 0.17735849,  0.5952381 ,  0.3559322 ,  0.29166667,  0.        ,\n",
       "         1.        ,  0.        ,  1.        ,  0.        ],\n",
       "       [ 0.16981132,  0.46428571,  0.22033898,  0.25      ,  1.        ,\n",
       "         0.        ,  0.        ,  0.        ,  1.        ],\n",
       "       [ 0.09811321,  0.46428571,  0.28813559,  0.18055556,  0.        ,\n",
       "         0.        ,  1.        ,  0.        ,  1.        ],\n",
       "       [ 0.64528302,  0.67857143,  0.50847458,  0.30555556,  0.        ,\n",
       "         1.        ,  0.        ,  1.        ,  0.        ],\n",
       "       [ 0.1245283 ,  0.46428571,  0.38983051,  0.17361111,  0.        ,\n",
       "         1.        ,  0.        ,  0.        ,  1.        ],\n",
       "       [ 0.41509434,  0.58333333,  0.6440678 ,  0.36111111,  0.        ,\n",
       "         0.        ,  1.        ,  1.        ,  0.        ],\n",
       "       [ 0.1245283 ,  0.47619048,  0.20338983,  0.04166667,  1.        ,\n",
       "         0.        ,  0.        ,  0.        ,  1.        ],\n",
       "       [ 0.17735849,  0.61904762,  0.03389831,  0.19444444,  1.        ,\n",
       "         0.        ,  0.        ,  0.        ,  1.        ],\n",
       "       [ 0.32075472,  0.58333333,  0.33898305,  0.34722222,  1.        ,\n",
       "         0.        ,  0.        ,  1.        ,  0.        ],\n",
       "       [ 0.58867925,  0.23809524,  0.84745763,  0.73611111,  1.        ,\n",
       "         0.        ,  0.        ,  1.        ,  0.        ],\n",
       "       [ 0.09811321,  0.45238095,  0.22033898,  0.125     ,  1.        ,\n",
       "         0.        ,  0.        ,  0.        ,  1.        ],\n",
       "       [ 0.14339623,  0.6547619 ,  0.28813559,  0.22222222,  0.        ,\n",
       "         1.        ,  0.        ,  0.        ,  1.        ],\n",
       "       [ 0.63396226,  0.35714286,  0.69491525,  0.75      ,  1.        ,\n",
       "         0.        ,  0.        ,  1.        ,  0.        ],\n",
       "       [ 0.22264151,  0.52380952,  0.23728814,  0.23611111,  1.        ,\n",
       "         0.        ,  0.        ,  0.        ,  1.        ],\n",
       "       [ 0.50188679,  0.55952381,  0.3220339 ,  0.27777778,  0.        ,\n",
       "         1.        ,  0.        ,  0.        ,  1.        ],\n",
       "       [ 0.64528302,  0.66666667,  0.44067797,  0.29861111,  0.        ,\n",
       "         1.        ,  0.        ,  0.        ,  1.        ],\n",
       "       [ 0.35471698,  0.42857143,  0.25423729,  0.18055556,  0.        ,\n",
       "         1.        ,  0.        ,  0.        ,  1.        ]])"
      ]
     },
     "execution_count": 22,
     "metadata": {},
     "output_type": "execute_result"
    }
   ],
   "source": [
    "# podemos aplicar las transformaciones a nuevos datos:\n",
    "pipe[:-1].transform(X_val)\n"
   ]
  },
  {
   "attachments": {},
   "cell_type": "markdown",
   "metadata": {},
   "source": [
    "### Predict\n",
    "\n",
    "Usamos el pipeline entrenado para predecir sobre los datos de validación."
   ]
  },
  {
   "cell_type": "code",
   "execution_count": 23,
   "metadata": {},
   "outputs": [],
   "source": [
    "y_val_pred = pipe.predict(X_val)\n"
   ]
  },
  {
   "cell_type": "code",
   "execution_count": 26,
   "metadata": {},
   "outputs": [
    {
     "name": "stdout",
     "output_type": "stream",
     "text": [
      "['Chinstrap' 'Gentoo' 'Adelie' 'Gentoo' 'Gentoo']\n",
      "['Chinstrap' 'Gentoo' 'Adelie' 'Gentoo' 'Gentoo']\n"
     ]
    }
   ],
   "source": [
    "print(y_val_pred[:5])\n",
    "print(y_val.values[:5])\n"
   ]
  },
  {
   "cell_type": "code",
   "execution_count": 27,
   "metadata": {},
   "outputs": [
    {
     "data": {
      "text/plain": [
       "1.0"
      ]
     },
     "execution_count": 27,
     "metadata": {},
     "output_type": "execute_result"
    }
   ],
   "source": [
    "accuracy_score(y_val, y_val_pred)\n"
   ]
  },
  {
   "cell_type": "code",
   "execution_count": 28,
   "metadata": {},
   "outputs": [
    {
     "name": "stdout",
     "output_type": "stream",
     "text": [
      "[[31  0  0]\n",
      " [ 0 18  0]\n",
      " [ 0  0 35]]\n"
     ]
    }
   ],
   "source": [
    "print(confusion_matrix(y_val, y_val_pred))\n"
   ]
  },
  {
   "cell_type": "code",
   "execution_count": 29,
   "metadata": {},
   "outputs": [],
   "source": [
    "# el modelo es perfecto! :o\n"
   ]
  },
  {
   "attachments": {},
   "cell_type": "markdown",
   "metadata": {},
   "source": [
    "### Ajuste de hiperparámetros\n",
    "\n",
    "Supongamos que hacemos _grid search_ de hiperparámetros del modelo; es decir, entrenamos el modelo con distintas configuraciones y evaluamos el desempeño de cada una en el conjunto de validación. \n",
    "\n",
    "Usamos un único corte train-validation.\n",
    "\n",
    "¿Qué podemos modificar para tener distintas configuraciones?"
   ]
  },
  {
   "cell_type": "code",
   "execution_count": 30,
   "metadata": {},
   "outputs": [
    {
     "data": {
      "text/plain": [
       "{'algorithm': 'auto',\n",
       " 'leaf_size': 30,\n",
       " 'metric': 'manhattan',\n",
       " 'metric_params': None,\n",
       " 'n_jobs': None,\n",
       " 'n_neighbors': 5,\n",
       " 'p': 2,\n",
       " 'weights': 'uniform'}"
      ]
     },
     "execution_count": 30,
     "metadata": {},
     "output_type": "execute_result"
    }
   ],
   "source": [
    "# que parametros del clasificador podemos modificar?\n",
    "pipe.named_steps.clf.get_params()\n"
   ]
  },
  {
   "cell_type": "code",
   "execution_count": 31,
   "metadata": {},
   "outputs": [],
   "source": [
    "# usamos la convencion de __ para acceder a los parametros de los pasos del pipeline:\n",
    "param_grid = {\n",
    "    \"clf__n_neighbors\": range(1, 15, 2),\n",
    "    \"clf__metric\": [\"manhattan\", \"euclidean\"],\n",
    "    \"clf__weights\": [\"uniform\", \"distance\"]\n",
    "}\n"
   ]
  },
  {
   "cell_type": "code",
   "execution_count": 32,
   "metadata": {},
   "outputs": [],
   "source": [
    "# hacemos esto para correr gridsearch con un set de validacion fijo con sklearn:\n",
    "split_index = [-1 if x in X_train.index else 0 for x in X.index]\n",
    "pds = PredefinedSplit(test_fold=split_index)\n"
   ]
  },
  {
   "cell_type": "code",
   "execution_count": 33,
   "metadata": {},
   "outputs": [],
   "source": [
    "grid_search = GridSearchCV(pipe, cv=pds, param_grid=param_grid, verbose=10)\n"
   ]
  },
  {
   "cell_type": "code",
   "execution_count": 34,
   "metadata": {},
   "outputs": [
    {
     "name": "stdout",
     "output_type": "stream",
     "text": [
      "Fitting 1 folds for each of 28 candidates, totalling 28 fits\n",
      "[CV 1/1; 1/28] START clf__metric=manhattan, clf__n_neighbors=1, clf__weights=uniform\n",
      "[CV 1/1; 1/28] END clf__metric=manhattan, clf__n_neighbors=1, clf__weights=uniform;, score=0.988 total time=   0.0s\n",
      "[CV 1/1; 2/28] START clf__metric=manhattan, clf__n_neighbors=1, clf__weights=distance\n",
      "[CV 1/1; 2/28] END clf__metric=manhattan, clf__n_neighbors=1, clf__weights=distance;, score=0.988 total time=   0.0s\n",
      "[CV 1/1; 3/28] START clf__metric=manhattan, clf__n_neighbors=3, clf__weights=uniform\n",
      "[CV 1/1; 3/28] END clf__metric=manhattan, clf__n_neighbors=3, clf__weights=uniform;, score=1.000 total time=   0.0s\n",
      "[CV 1/1; 4/28] START clf__metric=manhattan, clf__n_neighbors=3, clf__weights=distance\n",
      "[CV 1/1; 4/28] END clf__metric=manhattan, clf__n_neighbors=3, clf__weights=distance;, score=1.000 total time=   0.0s\n",
      "[CV 1/1; 5/28] START clf__metric=manhattan, clf__n_neighbors=5, clf__weights=uniform\n",
      "[CV 1/1; 5/28] END clf__metric=manhattan, clf__n_neighbors=5, clf__weights=uniform;, score=1.000 total time=   0.0s\n",
      "[CV 1/1; 6/28] START clf__metric=manhattan, clf__n_neighbors=5, clf__weights=distance\n",
      "[CV 1/1; 6/28] END clf__metric=manhattan, clf__n_neighbors=5, clf__weights=distance;, score=1.000 total time=   0.0s\n",
      "[CV 1/1; 7/28] START clf__metric=manhattan, clf__n_neighbors=7, clf__weights=uniform\n",
      "[CV 1/1; 7/28] END clf__metric=manhattan, clf__n_neighbors=7, clf__weights=uniform;, score=1.000 total time=   0.0s\n",
      "[CV 1/1; 8/28] START clf__metric=manhattan, clf__n_neighbors=7, clf__weights=distance\n",
      "[CV 1/1; 8/28] END clf__metric=manhattan, clf__n_neighbors=7, clf__weights=distance;, score=1.000 total time=   0.0s\n",
      "[CV 1/1; 9/28] START clf__metric=manhattan, clf__n_neighbors=9, clf__weights=uniform\n",
      "[CV 1/1; 9/28] END clf__metric=manhattan, clf__n_neighbors=9, clf__weights=uniform;, score=1.000 total time=   0.0s\n",
      "[CV 1/1; 10/28] START clf__metric=manhattan, clf__n_neighbors=9, clf__weights=distance\n",
      "[CV 1/1; 10/28] END clf__metric=manhattan, clf__n_neighbors=9, clf__weights=distance;, score=1.000 total time=   0.0s\n",
      "[CV 1/1; 11/28] START clf__metric=manhattan, clf__n_neighbors=11, clf__weights=uniform\n",
      "[CV 1/1; 11/28] END clf__metric=manhattan, clf__n_neighbors=11, clf__weights=uniform;, score=1.000 total time=   0.0s\n",
      "[CV 1/1; 12/28] START clf__metric=manhattan, clf__n_neighbors=11, clf__weights=distance\n",
      "[CV 1/1; 12/28] END clf__metric=manhattan, clf__n_neighbors=11, clf__weights=distance;, score=1.000 total time=   0.0s\n",
      "[CV 1/1; 13/28] START clf__metric=manhattan, clf__n_neighbors=13, clf__weights=uniform\n",
      "[CV 1/1; 13/28] END clf__metric=manhattan, clf__n_neighbors=13, clf__weights=uniform;, score=1.000 total time=   0.0s\n",
      "[CV 1/1; 14/28] START clf__metric=manhattan, clf__n_neighbors=13, clf__weights=distance\n",
      "[CV 1/1; 14/28] END clf__metric=manhattan, clf__n_neighbors=13, clf__weights=distance;, score=1.000 total time=   0.0s\n",
      "[CV 1/1; 15/28] START clf__metric=euclidean, clf__n_neighbors=1, clf__weights=uniform\n",
      "[CV 1/1; 15/28] END clf__metric=euclidean, clf__n_neighbors=1, clf__weights=uniform;, score=0.988 total time=   0.0s\n",
      "[CV 1/1; 16/28] START clf__metric=euclidean, clf__n_neighbors=1, clf__weights=distance\n",
      "[CV 1/1; 16/28] END clf__metric=euclidean, clf__n_neighbors=1, clf__weights=distance;, score=0.988 total time=   0.0s\n",
      "[CV 1/1; 17/28] START clf__metric=euclidean, clf__n_neighbors=3, clf__weights=uniform\n",
      "[CV 1/1; 17/28] END clf__metric=euclidean, clf__n_neighbors=3, clf__weights=uniform;, score=0.988 total time=   0.0s\n",
      "[CV 1/1; 18/28] START clf__metric=euclidean, clf__n_neighbors=3, clf__weights=distance\n",
      "[CV 1/1; 18/28] END clf__metric=euclidean, clf__n_neighbors=3, clf__weights=distance;, score=0.988 total time=   0.0s\n",
      "[CV 1/1; 19/28] START clf__metric=euclidean, clf__n_neighbors=5, clf__weights=uniform\n",
      "[CV 1/1; 19/28] END clf__metric=euclidean, clf__n_neighbors=5, clf__weights=uniform;, score=1.000 total time=   0.0s\n",
      "[CV 1/1; 20/28] START clf__metric=euclidean, clf__n_neighbors=5, clf__weights=distance\n",
      "[CV 1/1; 20/28] END clf__metric=euclidean, clf__n_neighbors=5, clf__weights=distance;, score=1.000 total time=   0.0s\n",
      "[CV 1/1; 21/28] START clf__metric=euclidean, clf__n_neighbors=7, clf__weights=uniform\n",
      "[CV 1/1; 21/28] END clf__metric=euclidean, clf__n_neighbors=7, clf__weights=uniform;, score=1.000 total time=   0.0s\n",
      "[CV 1/1; 22/28] START clf__metric=euclidean, clf__n_neighbors=7, clf__weights=distance\n",
      "[CV 1/1; 22/28] END clf__metric=euclidean, clf__n_neighbors=7, clf__weights=distance;, score=1.000 total time=   0.0s\n",
      "[CV 1/1; 23/28] START clf__metric=euclidean, clf__n_neighbors=9, clf__weights=uniform\n",
      "[CV 1/1; 23/28] END clf__metric=euclidean, clf__n_neighbors=9, clf__weights=uniform;, score=1.000 total time=   0.0s\n",
      "[CV 1/1; 24/28] START clf__metric=euclidean, clf__n_neighbors=9, clf__weights=distance\n",
      "[CV 1/1; 24/28] END clf__metric=euclidean, clf__n_neighbors=9, clf__weights=distance;, score=1.000 total time=   0.0s\n",
      "[CV 1/1; 25/28] START clf__metric=euclidean, clf__n_neighbors=11, clf__weights=uniform\n",
      "[CV 1/1; 25/28] END clf__metric=euclidean, clf__n_neighbors=11, clf__weights=uniform;, score=1.000 total time=   0.0s\n",
      "[CV 1/1; 26/28] START clf__metric=euclidean, clf__n_neighbors=11, clf__weights=distance\n",
      "[CV 1/1; 26/28] END clf__metric=euclidean, clf__n_neighbors=11, clf__weights=distance;, score=1.000 total time=   0.0s\n",
      "[CV 1/1; 27/28] START clf__metric=euclidean, clf__n_neighbors=13, clf__weights=uniform\n",
      "[CV 1/1; 27/28] END clf__metric=euclidean, clf__n_neighbors=13, clf__weights=uniform;, score=1.000 total time=   0.0s\n",
      "[CV 1/1; 28/28] START clf__metric=euclidean, clf__n_neighbors=13, clf__weights=distance\n",
      "[CV 1/1; 28/28] END clf__metric=euclidean, clf__n_neighbors=13, clf__weights=distance;, score=1.000 total time=   0.0s\n"
     ]
    }
   ],
   "source": [
    "_ = grid_search.fit(X, y)\n"
   ]
  },
  {
   "cell_type": "code",
   "execution_count": 35,
   "metadata": {},
   "outputs": [],
   "source": [
    "# por que hay 28 lineas?\n"
   ]
  },
  {
   "cell_type": "code",
   "execution_count": 36,
   "metadata": {},
   "outputs": [
    {
     "name": "stdout",
     "output_type": "stream",
     "text": [
      "{'clf__metric': 'manhattan', 'clf__n_neighbors': 3, 'clf__weights': 'uniform'}\n",
      "1.0\n"
     ]
    }
   ],
   "source": [
    "print(grid_search.best_params_)\n",
    "print(grid_search.best_score_)\n"
   ]
  },
  {
   "cell_type": "code",
   "execution_count": 37,
   "metadata": {},
   "outputs": [
    {
     "data": {
      "text/html": [
       "<div>\n",
       "<style scoped>\n",
       "    .dataframe tbody tr th:only-of-type {\n",
       "        vertical-align: middle;\n",
       "    }\n",
       "\n",
       "    .dataframe tbody tr th {\n",
       "        vertical-align: top;\n",
       "    }\n",
       "\n",
       "    .dataframe thead th {\n",
       "        text-align: right;\n",
       "    }\n",
       "</style>\n",
       "<table border=\"1\" class=\"dataframe\">\n",
       "  <thead>\n",
       "    <tr style=\"text-align: right;\">\n",
       "      <th></th>\n",
       "      <th>mean_fit_time</th>\n",
       "      <th>std_fit_time</th>\n",
       "      <th>mean_score_time</th>\n",
       "      <th>std_score_time</th>\n",
       "      <th>param_clf__metric</th>\n",
       "      <th>param_clf__n_neighbors</th>\n",
       "      <th>param_clf__weights</th>\n",
       "      <th>params</th>\n",
       "      <th>split0_test_score</th>\n",
       "      <th>mean_test_score</th>\n",
       "      <th>std_test_score</th>\n",
       "      <th>rank_test_score</th>\n",
       "    </tr>\n",
       "  </thead>\n",
       "  <tbody>\n",
       "    <tr>\n",
       "      <th>27</th>\n",
       "      <td>0.015624</td>\n",
       "      <td>0.0</td>\n",
       "      <td>0.000000</td>\n",
       "      <td>0.0</td>\n",
       "      <td>euclidean</td>\n",
       "      <td>13</td>\n",
       "      <td>distance</td>\n",
       "      <td>{'clf__metric': 'euclidean', 'clf__n_neighbors...</td>\n",
       "      <td>1.0</td>\n",
       "      <td>1.0</td>\n",
       "      <td>0.0</td>\n",
       "      <td>1</td>\n",
       "    </tr>\n",
       "    <tr>\n",
       "      <th>22</th>\n",
       "      <td>0.014961</td>\n",
       "      <td>0.0</td>\n",
       "      <td>0.005897</td>\n",
       "      <td>0.0</td>\n",
       "      <td>euclidean</td>\n",
       "      <td>9</td>\n",
       "      <td>uniform</td>\n",
       "      <td>{'clf__metric': 'euclidean', 'clf__n_neighbors...</td>\n",
       "      <td>1.0</td>\n",
       "      <td>1.0</td>\n",
       "      <td>0.0</td>\n",
       "      <td>1</td>\n",
       "    </tr>\n",
       "  </tbody>\n",
       "</table>\n",
       "</div>"
      ],
      "text/plain": [
       "    mean_fit_time  std_fit_time  mean_score_time  std_score_time  \\\n",
       "27       0.015624           0.0         0.000000             0.0   \n",
       "22       0.014961           0.0         0.005897             0.0   \n",
       "\n",
       "   param_clf__metric param_clf__n_neighbors param_clf__weights  \\\n",
       "27         euclidean                     13           distance   \n",
       "22         euclidean                      9            uniform   \n",
       "\n",
       "                                               params  split0_test_score  \\\n",
       "27  {'clf__metric': 'euclidean', 'clf__n_neighbors...                1.0   \n",
       "22  {'clf__metric': 'euclidean', 'clf__n_neighbors...                1.0   \n",
       "\n",
       "    mean_test_score  std_test_score  rank_test_score  \n",
       "27              1.0             0.0                1  \n",
       "22              1.0             0.0                1  "
      ]
     },
     "execution_count": 37,
     "metadata": {},
     "output_type": "execute_result"
    }
   ],
   "source": [
    "# podemos inspeccionar los resultados:\n",
    "cv_results = pd.DataFrame(grid_search.cv_results_)\n",
    "cv_results = cv_results.sort_values(\"mean_test_score\", ascending=False)\n",
    "cv_results.head(2)\n"
   ]
  },
  {
   "cell_type": "code",
   "execution_count": 38,
   "metadata": {},
   "outputs": [
    {
     "data": {
      "image/png": "[encoded data removed]",
      "text/plain": [
       "<Figure size 640x480 with 1 Axes>"
      ]
     },
     "metadata": {},
     "output_type": "display_data"
    }
   ],
   "source": [
    "# la performance excepcional se debe a una configuracion particular? \n",
    "sns.stripplot(\n",
    "    x=\"param_clf__n_neighbors\", y=\"mean_test_score\", hue=\"param_clf__metric\", \n",
    "    data=cv_results)\n",
    "    # strip agrega jitter\n",
    "plt.show()\n"
   ]
  },
  {
   "attachments": {},
   "cell_type": "markdown",
   "metadata": {},
   "source": [
    "----------------------------------\n",
    "\n",
    "## Bonus\n",
    "\n",
    ">_Caching_ la matriz de distancias para reducir el tiempo de cómputo de KNN. Ver: \n",
    ">\n",
    ">https://scikit-learn.org/stable/auto_examples/neighbors/plot_caching_nearest_neighbors.html"
   ]
  }
 ],
 "metadata": {
  "interpreter": {
   "hash": "70aae090dcf60b41e7cc1692a84d4f6e0a269d03152970a28664643b73443561"
  },
  "kernelspec": {
   "display_name": "Python 3.7.6 ('base')",
   "language": "python",
   "name": "python3"
  },
  "language_info": {
   "codemirror_mode": {
    "name": "ipython",
    "version": 3
   },
   "file_extension": ".py",
   "mimetype": "text/x-python",
   "name": "python",
   "nbconvert_exporter": "python",
   "pygments_lexer": "ipython3",
   "version": "3.9.13"
  }
 },
 "nbformat": 4,
 "nbformat_minor": 2
}
